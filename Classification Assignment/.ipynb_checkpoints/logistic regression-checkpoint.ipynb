{
 "cells": [
  {
   "cell_type": "code",
   "execution_count": 111,
   "id": "a32f66fe",
   "metadata": {},
   "outputs": [],
   "source": [
    "import numpy as np \n",
    "import pandas as pd\n",
    "from sklearn import datasets, linear_model, metrics\n",
    "import matplotlib.pyplot as plt\n",
    "from sklearn.model_selection import cross_validate\n",
    "from sklearn.pipeline import make_pipeline\n",
    "from sklearn.preprocessing import PolynomialFeatures\n",
    "from sklearn.linear_model import LinearRegression\n",
    "from sklearn.preprocessing import MinMaxScaler, StandardScaler\n",
    "from sklearn.model_selection import ShuffleSplit"
   ]
  },
  {
   "cell_type": "code",
   "execution_count": 112,
   "id": "86531d55",
   "metadata": {},
   "outputs": [],
   "source": [
    "df = pd.read_csv(\"D:/GUC/semester 10/Machine/assignments/payment_fraud.csv\")"
   ]
  },
  {
   "cell_type": "code",
   "execution_count": 113,
   "id": "7434320c",
   "metadata": {},
   "outputs": [
    {
     "data": {
      "text/html": [
       "<div>\n",
       "<style scoped>\n",
       "    .dataframe tbody tr th:only-of-type {\n",
       "        vertical-align: middle;\n",
       "    }\n",
       "\n",
       "    .dataframe tbody tr th {\n",
       "        vertical-align: top;\n",
       "    }\n",
       "\n",
       "    .dataframe thead th {\n",
       "        text-align: right;\n",
       "    }\n",
       "</style>\n",
       "<table border=\"1\" class=\"dataframe\">\n",
       "  <thead>\n",
       "    <tr style=\"text-align: right;\">\n",
       "      <th></th>\n",
       "      <th>step</th>\n",
       "      <th>type</th>\n",
       "      <th>amount</th>\n",
       "      <th>nameOrig</th>\n",
       "      <th>oldbalanceOrg</th>\n",
       "      <th>newbalanceOrig</th>\n",
       "      <th>nameDest</th>\n",
       "      <th>oldbalanceDest</th>\n",
       "      <th>newbalanceDest</th>\n",
       "      <th>isFraud</th>\n",
       "      <th>isFlaggedFraud</th>\n",
       "    </tr>\n",
       "  </thead>\n",
       "  <tbody>\n",
       "    <tr>\n",
       "      <th>0</th>\n",
       "      <td>1</td>\n",
       "      <td>PAYMENT</td>\n",
       "      <td>9839.64</td>\n",
       "      <td>C1231006815</td>\n",
       "      <td>170136.0</td>\n",
       "      <td>160296.36</td>\n",
       "      <td>M1979787155</td>\n",
       "      <td>0.0</td>\n",
       "      <td>0.0</td>\n",
       "      <td>0</td>\n",
       "      <td>0</td>\n",
       "    </tr>\n",
       "    <tr>\n",
       "      <th>1</th>\n",
       "      <td>1</td>\n",
       "      <td>PAYMENT</td>\n",
       "      <td>1864.28</td>\n",
       "      <td>C1666544295</td>\n",
       "      <td>21249.0</td>\n",
       "      <td>19384.72</td>\n",
       "      <td>M2044282225</td>\n",
       "      <td>0.0</td>\n",
       "      <td>0.0</td>\n",
       "      <td>0</td>\n",
       "      <td>0</td>\n",
       "    </tr>\n",
       "    <tr>\n",
       "      <th>2</th>\n",
       "      <td>1</td>\n",
       "      <td>TRANSFER</td>\n",
       "      <td>181.00</td>\n",
       "      <td>C1305486145</td>\n",
       "      <td>181.0</td>\n",
       "      <td>0.00</td>\n",
       "      <td>C553264065</td>\n",
       "      <td>0.0</td>\n",
       "      <td>0.0</td>\n",
       "      <td>1</td>\n",
       "      <td>0</td>\n",
       "    </tr>\n",
       "    <tr>\n",
       "      <th>3</th>\n",
       "      <td>1</td>\n",
       "      <td>CASH_OUT</td>\n",
       "      <td>181.00</td>\n",
       "      <td>C840083671</td>\n",
       "      <td>181.0</td>\n",
       "      <td>0.00</td>\n",
       "      <td>C38997010</td>\n",
       "      <td>21182.0</td>\n",
       "      <td>0.0</td>\n",
       "      <td>1</td>\n",
       "      <td>0</td>\n",
       "    </tr>\n",
       "    <tr>\n",
       "      <th>4</th>\n",
       "      <td>1</td>\n",
       "      <td>PAYMENT</td>\n",
       "      <td>11668.14</td>\n",
       "      <td>C2048537720</td>\n",
       "      <td>41554.0</td>\n",
       "      <td>29885.86</td>\n",
       "      <td>M1230701703</td>\n",
       "      <td>0.0</td>\n",
       "      <td>0.0</td>\n",
       "      <td>0</td>\n",
       "      <td>0</td>\n",
       "    </tr>\n",
       "  </tbody>\n",
       "</table>\n",
       "</div>"
      ],
      "text/plain": [
       "   step      type    amount     nameOrig  oldbalanceOrg  newbalanceOrig  \\\n",
       "0     1   PAYMENT   9839.64  C1231006815       170136.0       160296.36   \n",
       "1     1   PAYMENT   1864.28  C1666544295        21249.0        19384.72   \n",
       "2     1  TRANSFER    181.00  C1305486145          181.0            0.00   \n",
       "3     1  CASH_OUT    181.00   C840083671          181.0            0.00   \n",
       "4     1   PAYMENT  11668.14  C2048537720        41554.0        29885.86   \n",
       "\n",
       "      nameDest  oldbalanceDest  newbalanceDest  isFraud  isFlaggedFraud  \n",
       "0  M1979787155             0.0             0.0        0               0  \n",
       "1  M2044282225             0.0             0.0        0               0  \n",
       "2   C553264065             0.0             0.0        1               0  \n",
       "3    C38997010         21182.0             0.0        1               0  \n",
       "4  M1230701703             0.0             0.0        0               0  "
      ]
     },
     "execution_count": 113,
     "metadata": {},
     "output_type": "execute_result"
    }
   ],
   "source": [
    "df.head()"
   ]
  },
  {
   "cell_type": "code",
   "execution_count": null,
   "id": "3b7946fd",
   "metadata": {},
   "outputs": [],
   "source": []
  },
  {
   "cell_type": "code",
   "execution_count": 114,
   "id": "248d9fc6",
   "metadata": {},
   "outputs": [],
   "source": [
    "data = df[['amount','oldbalanceOrg','newbalanceOrig','oldbalanceDest','newbalanceDest']]\n",
    "target = df['isFraud']"
   ]
  },
  {
   "cell_type": "code",
   "execution_count": 115,
   "id": "ccc2f65c",
   "metadata": {},
   "outputs": [
    {
     "data": {
      "text/html": [
       "<div>\n",
       "<style scoped>\n",
       "    .dataframe tbody tr th:only-of-type {\n",
       "        vertical-align: middle;\n",
       "    }\n",
       "\n",
       "    .dataframe tbody tr th {\n",
       "        vertical-align: top;\n",
       "    }\n",
       "\n",
       "    .dataframe thead th {\n",
       "        text-align: right;\n",
       "    }\n",
       "</style>\n",
       "<table border=\"1\" class=\"dataframe\">\n",
       "  <thead>\n",
       "    <tr style=\"text-align: right;\">\n",
       "      <th></th>\n",
       "      <th>amount</th>\n",
       "      <th>oldbalanceOrg</th>\n",
       "      <th>newbalanceOrig</th>\n",
       "      <th>oldbalanceDest</th>\n",
       "      <th>newbalanceDest</th>\n",
       "    </tr>\n",
       "  </thead>\n",
       "  <tbody>\n",
       "    <tr>\n",
       "      <th>0</th>\n",
       "      <td>9839.64</td>\n",
       "      <td>170136.0</td>\n",
       "      <td>160296.36</td>\n",
       "      <td>0.0</td>\n",
       "      <td>0.0</td>\n",
       "    </tr>\n",
       "    <tr>\n",
       "      <th>1</th>\n",
       "      <td>1864.28</td>\n",
       "      <td>21249.0</td>\n",
       "      <td>19384.72</td>\n",
       "      <td>0.0</td>\n",
       "      <td>0.0</td>\n",
       "    </tr>\n",
       "    <tr>\n",
       "      <th>2</th>\n",
       "      <td>181.00</td>\n",
       "      <td>181.0</td>\n",
       "      <td>0.00</td>\n",
       "      <td>0.0</td>\n",
       "      <td>0.0</td>\n",
       "    </tr>\n",
       "    <tr>\n",
       "      <th>3</th>\n",
       "      <td>181.00</td>\n",
       "      <td>181.0</td>\n",
       "      <td>0.00</td>\n",
       "      <td>21182.0</td>\n",
       "      <td>0.0</td>\n",
       "    </tr>\n",
       "    <tr>\n",
       "      <th>4</th>\n",
       "      <td>11668.14</td>\n",
       "      <td>41554.0</td>\n",
       "      <td>29885.86</td>\n",
       "      <td>0.0</td>\n",
       "      <td>0.0</td>\n",
       "    </tr>\n",
       "  </tbody>\n",
       "</table>\n",
       "</div>"
      ],
      "text/plain": [
       "     amount  oldbalanceOrg  newbalanceOrig  oldbalanceDest  newbalanceDest\n",
       "0   9839.64       170136.0       160296.36             0.0             0.0\n",
       "1   1864.28        21249.0        19384.72             0.0             0.0\n",
       "2    181.00          181.0            0.00             0.0             0.0\n",
       "3    181.00          181.0            0.00         21182.0             0.0\n",
       "4  11668.14        41554.0        29885.86             0.0             0.0"
      ]
     },
     "execution_count": 115,
     "metadata": {},
     "output_type": "execute_result"
    }
   ],
   "source": [
    "data.head()"
   ]
  },
  {
   "cell_type": "code",
   "execution_count": 116,
   "id": "4ca22898",
   "metadata": {},
   "outputs": [],
   "source": [
    "from sklearn.model_selection import train_test_split\n",
    "X, X_test, Y, y_test = train_test_split(data, target, test_size=0.2, random_state=0)"
   ]
  },
  {
   "cell_type": "code",
   "execution_count": 117,
   "id": "27c29543",
   "metadata": {},
   "outputs": [
    {
     "data": {
      "text/plain": [
       "1657090    0\n",
       "3056545    0\n",
       "224722     0\n",
       "495935     0\n",
       "4412383    0\n",
       "Name: isFraud, dtype: int64"
      ]
     },
     "execution_count": 117,
     "metadata": {},
     "output_type": "execute_result"
    }
   ],
   "source": [
    "Y.head()"
   ]
  },
  {
   "cell_type": "code",
   "execution_count": 8,
   "id": "def0b69b",
   "metadata": {},
   "outputs": [],
   "source": [
    "from sklearn.preprocessing import MinMaxScaler\n",
    "scaler = MinMaxScaler()\n",
    "scaler.fit(X)\n",
    "X = scaler.transform(X)\n",
    "X_test = scaler.transform(X_test)"
   ]
  },
  {
   "cell_type": "code",
   "execution_count": 9,
   "id": "bf3a6b8c",
   "metadata": {},
   "outputs": [],
   "source": [
    "clf = linear_model.LogisticRegression(random_state=0).fit(X, Y)"
   ]
  },
  {
   "cell_type": "code",
   "execution_count": 10,
   "id": "ba9477f1",
   "metadata": {},
   "outputs": [],
   "source": [
    "y_predict = clf.predict(X)"
   ]
  },
  {
   "cell_type": "code",
   "execution_count": null,
   "id": "3d6ea21a",
   "metadata": {},
   "outputs": [],
   "source": []
  },
  {
   "cell_type": "code",
   "execution_count": 11,
   "id": "1690d0ae",
   "metadata": {},
   "outputs": [],
   "source": [
    "def cost_function(y_pred,y):\n",
    "    m = y.shape[0]\n",
    "    return (1/(2*m))*np.sum((y_pred-y)**2)"
   ]
  },
  {
   "cell_type": "code",
   "execution_count": 12,
   "id": "acc2281b",
   "metadata": {},
   "outputs": [
    {
     "name": "stdout",
     "output_type": "stream",
     "text": [
      "[[5083495      29]\n",
      " [   6086     486]]\n"
     ]
    }
   ],
   "source": [
    "print(metrics.confusion_matrix(Y,y_predict))"
   ]
  },
  {
   "cell_type": "code",
   "execution_count": 13,
   "id": "12b08cbf",
   "metadata": {},
   "outputs": [
    {
     "name": "stdout",
     "output_type": "stream",
     "text": [
      "0.9987986474125439\n"
     ]
    }
   ],
   "source": [
    "print(clf.score(X,Y))"
   ]
  },
  {
   "cell_type": "code",
   "execution_count": 14,
   "id": "1570220b",
   "metadata": {},
   "outputs": [],
   "source": [
    "def test_hypothesis(X,y):\n",
    "    X_train, X_cv, y_train, y_cv = train_test_split(X, y, test_size=0.2, random_state=0)\n",
    "    cost_cv = []\n",
    "    cost_train = []\n",
    "    reg2 = linear_model.LogisticRegression(random_state=0).fit(X_train, y_train)\n",
    "    y_predCV = reg2.predict(X_cv)\n",
    "    y_pred_train=reg2.predict(X_train)\n",
    "    cost_cv.append(cost_function(y_predCV,y_cv))\n",
    "    cost_train.append(cost_function(y_pred_train,y_train))\n",
    "            \n",
    "\n",
    "    return cost_cv, cost_train"
   ]
  },
  {
   "cell_type": "code",
   "execution_count": 15,
   "id": "2f499401",
   "metadata": {},
   "outputs": [],
   "source": [
    "cost_cv = []\n",
    "cost_train = []\n",
    "for i in range(4):\n",
    "    x_h = X[:,0:i+2]\n",
    "    c,t = test_hypothesis(x_h,Y)\n",
    "    cost_cv.append(c)\n",
    "    cost_train.append(t)\n",
    "\n"
   ]
  },
  {
   "cell_type": "code",
   "execution_count": 16,
   "id": "32f7d4ed",
   "metadata": {},
   "outputs": [
    {
     "data": {
      "text/plain": [
       "<matplotlib.legend.Legend at 0x22a1ca777f0>"
      ]
     },
     "execution_count": 16,
     "metadata": {},
     "output_type": "execute_result"
    },
    {
     "data": {
      "image/png": "[encoded data removed]",
      "text/plain": [
       "<Figure size 432x288 with 1 Axes>"
      ]
     },
     "metadata": {
      "needs_background": "light"
     },
     "output_type": "display_data"
    }
   ],
   "source": [
    "plt.figure()\n",
    "x_axis = [2,3,4,5]\n",
    "plt.plot(x_axis,cost_cv,'r')\n",
    "plt.plot(x_axis,cost_train,'g')\n",
    "plt.ylabel(f'cost Function')\n",
    "\n",
    "plt.xlabel('degree of polynomial')\n",
    "plt.legend(['cross validation','training'],loc='upper right')\n",
    "\n"
   ]
  },
  {
   "cell_type": "code",
   "execution_count": 17,
   "id": "396d30a3",
   "metadata": {},
   "outputs": [
    {
     "name": "stdout",
     "output_type": "stream",
     "text": [
      "Generaliztion error fot test set is 0.0005999886839069441\n"
     ]
    }
   ],
   "source": [
    "reg2 = linear_model.LogisticRegression(random_state=0).fit(X[:,0:4], Y)\n",
    "y_pred = reg2.predict(X_test[:,0:4])\n",
    "\n",
    "print(f'Generaliztion error fot test set is {cost_function(y_pred,y_test)}')"
   ]
  },
  {
   "cell_type": "code",
   "execution_count": 18,
   "id": "cb8e04cb",
   "metadata": {
    "scrolled": true
   },
   "outputs": [
    {
     "name": "stdout",
     "output_type": "stream",
     "text": [
      "Accuracy score for the test set is : 0.9988078810301416\n"
     ]
    }
   ],
   "source": [
    "print(f'Accuracy score for the test set is : {clf.score(X_test,y_test)}')"
   ]
  },
  {
   "cell_type": "markdown",
   "id": "f8e80011",
   "metadata": {},
   "source": [
    "## Another Method"
   ]
  },
  {
   "cell_type": "code",
   "execution_count": 118,
   "id": "013f2ed1",
   "metadata": {},
   "outputs": [],
   "source": [
    "from sklearn.linear_model import LogisticRegression"
   ]
  },
  {
   "cell_type": "code",
   "execution_count": 119,
   "id": "967b47b1",
   "metadata": {},
   "outputs": [],
   "source": [
    "from sklearn.model_selection import train_test_split\n",
    "X, X_test, Y, y_test = train_test_split(data, target, test_size=0.2, random_state=0)"
   ]
  },
  {
   "cell_type": "code",
   "execution_count": 21,
   "id": "1cc35013",
   "metadata": {},
   "outputs": [
    {
     "name": "stdout",
     "output_type": "stream",
     "text": [
      "Plonomial of degree 1\n",
      "Mean squared error of logistc regression model on the train set:\n",
      "0.001 +/- 0.000\n",
      "Mean squared error of logistic regression model on the test set:\n",
      "0.001 +/- 0.000\n",
      "Plonomial of degree 2\n",
      "Mean squared error of logistc regression model on the train set:\n",
      "0.001 +/- 0.000\n",
      "Mean squared error of logistic regression model on the test set:\n",
      "0.001 +/- 0.000\n"
     ]
    }
   ],
   "source": [
    "cv_errs = []\n",
    "t_errs = []\n",
    "degree = [1,2]\n",
    "for i in degree:\n",
    "    logistic_regression = make_pipeline(PolynomialFeatures(degree=i), MinMaxScaler(),\n",
    "                                  LogisticRegression())\n",
    "    cv = ShuffleSplit(n_splits=5, random_state=1)\n",
    "    cv_results = cross_validate(logistic_regression, X, Y,\n",
    "                            cv=cv, scoring=\"neg_mean_squared_log_error\",\n",
    "                            return_train_score=True,\n",
    "                            return_estimator=True, n_jobs=2)\n",
    "    train_error = (-cv_results[\"train_score\"])\n",
    "    test_error = (-cv_results[\"test_score\"])\n",
    "    print(f'Plonomial of degree {i}')\n",
    "    print(f\"Mean squared error of logistc regression model on the train set:\\n\"\n",
    "        f\"{train_error.mean():.3f} +/- {train_error.std():.3f}\")\n",
    "    print(f\"Mean squared error of logistic regression model on the test set:\\n\"\n",
    "        f\"{test_error.mean():.3f} +/- {test_error.std():.3f}\")\n",
    "    cv_errs.append(test_error.mean())\n",
    "    t_errs.append(train_error.mean())"
   ]
  },
  {
   "cell_type": "code",
   "execution_count": null,
   "id": "da2ea280",
   "metadata": {},
   "outputs": [],
   "source": []
  },
  {
   "cell_type": "code",
   "execution_count": 22,
   "id": "eafeda88",
   "metadata": {},
   "outputs": [
    {
     "data": {
      "text/plain": [
       "<matplotlib.legend.Legend at 0x22a1cbbf3a0>"
      ]
     },
     "execution_count": 22,
     "metadata": {},
     "output_type": "execute_result"
    },
    {
     "data": {
      "image/png": "[encoded data removed]",
      "text/plain": [
       "<Figure size 432x288 with 1 Axes>"
      ]
     },
     "metadata": {
      "needs_background": "light"
     },
     "output_type": "display_data"
    }
   ],
   "source": [
    "plt.figure()\n",
    "plt.plot(degree,cv_errs,'r')\n",
    "plt.plot(degree,t_errs,'g')\n",
    "plt.ylabel(f'cost Function')\n",
    "plt.xlabel('degree of polynomial')\n",
    "plt.legend(['cross validation','training'],loc='upper right')"
   ]
  },
  {
   "cell_type": "markdown",
   "id": "8cb85ea6",
   "metadata": {},
   "source": [
    "## K-fold sampling"
   ]
  },
  {
   "cell_type": "code",
   "execution_count": 19,
   "id": "bd3ae1f2",
   "metadata": {},
   "outputs": [],
   "source": [
    "from sklearn.preprocessing import MinMaxScaler\n",
    "scaler = MinMaxScaler()\n",
    "scaler.fit(data)\n",
    "X = scaler.transform(data)"
   ]
  },
  {
   "cell_type": "code",
   "execution_count": 20,
   "id": "27e104db",
   "metadata": {},
   "outputs": [
    {
     "data": {
      "text/plain": [
       "0          0\n",
       "1          0\n",
       "2          1\n",
       "3          1\n",
       "4          0\n",
       "          ..\n",
       "6362615    1\n",
       "6362616    1\n",
       "6362617    1\n",
       "6362618    1\n",
       "6362619    1\n",
       "Name: isFraud, Length: 6362620, dtype: int64"
      ]
     },
     "execution_count": 20,
     "metadata": {},
     "output_type": "execute_result"
    }
   ],
   "source": [
    "target"
   ]
  },
  {
   "cell_type": "code",
   "execution_count": 21,
   "id": "9e59e128",
   "metadata": {},
   "outputs": [
    {
     "name": "stdout",
     "output_type": "stream",
     "text": [
      "TRAIN: [ 636262  636263  636264 ... 6362617 6362618 6362619] TEST: [     0      1      2 ... 636259 636260 636261]\n",
      "[[635879      0]\n",
      " [   371     12]]\n",
      "TRAIN: [      0       1       2 ... 6362617 6362618 6362619] TEST: [ 636262  636263  636264 ... 1272521 1272522 1272523]\n",
      "[[635105      0]\n",
      " [  1090     67]]\n",
      "TRAIN: [      0       1       2 ... 6362617 6362618 6362619] TEST: [1272524 1272525 1272526 ... 1908783 1908784 1908785]\n",
      "[[635910      0]\n",
      " [   326     26]]\n",
      "TRAIN: [      0       1       2 ... 6362617 6362618 6362619] TEST: [1908786 1908787 1908788 ... 2545045 2545046 2545047]\n",
      "[[635856      0]\n",
      " [   376     30]]\n",
      "TRAIN: [      0       1       2 ... 6362617 6362618 6362619] TEST: [2545048 2545049 2545050 ... 3181307 3181308 3181309]\n",
      "[[635861      0]\n",
      " [   372     29]]\n",
      "TRAIN: [      0       1       2 ... 6362617 6362618 6362619] TEST: [3181310 3181311 3181312 ... 3817569 3817570 3817571]\n",
      "[[635762     10]\n",
      " [   452     38]]\n",
      "TRAIN: [      0       1       2 ... 6362617 6362618 6362619] TEST: [3817572 3817573 3817574 ... 4453831 4453832 4453833]\n",
      "[[635569    239]\n",
      " [   412     42]]\n",
      "TRAIN: [      0       1       2 ... 6362617 6362618 6362619] TEST: [4453834 4453835 4453836 ... 5090093 5090094 5090095]\n",
      "[[635946      0]\n",
      " [   292     24]]\n",
      "TRAIN: [      0       1       2 ... 6362617 6362618 6362619] TEST: [5090096 5090097 5090098 ... 5726355 5726356 5726357]\n",
      "[[635772      0]\n",
      " [   438     52]]\n",
      "TRAIN: [      0       1       2 ... 5726355 5726356 5726357] TEST: [5726358 5726359 5726360 ... 6362617 6362618 6362619]\n",
      "[[632498      0]\n",
      " [  3547    217]]\n"
     ]
    }
   ],
   "source": [
    "from sklearn.model_selection import KFold\n",
    "kf = KFold(n_splits=10)\n",
    "kf.get_n_splits(data)\n",
    "accuracy_scores = []\n",
    "for train_index, test_index in kf.split(data):\n",
    "    print(\"TRAIN:\", train_index, \"TEST:\", test_index)\n",
    "    X_train, X_test = X[train_index],X[test_index]\n",
    "    y_train, y_test = target[train_index], target[test_index]\n",
    "    reg2 = linear_model.LogisticRegression(random_state=0).fit(X_train[:,0:4], y_train)\n",
    "    y_pred = reg2.predict(X_test[:,0:4])\n",
    "    print( metrics.confusion_matrix(y_test,y_pred))\n",
    "    accuracy_scores.append(reg2.score(X_test[:,0:4],y_test))"
   ]
  },
  {
   "cell_type": "code",
   "execution_count": 22,
   "id": "56ea643f",
   "metadata": {},
   "outputs": [
    {
     "data": {
      "text/plain": [
       "Text(0.5, 0, 'iterations')"
      ]
     },
     "execution_count": 22,
     "metadata": {},
     "output_type": "execute_result"
    },
    {
     "data": {
      "image/png": "[encoded data removed]",
      "text/plain": [
       "<Figure size 432x288 with 1 Axes>"
      ]
     },
     "metadata": {
      "needs_background": "light"
     },
     "output_type": "display_data"
    }
   ],
   "source": [
    "plt.figure()\n",
    "plt.plot(accuracy_scores)\n",
    "plt.ylabel('accuracy scores')\n",
    "plt.xlabel('iterations')"
   ]
  },
  {
   "cell_type": "code",
   "execution_count": null,
   "id": "5de9e57e",
   "metadata": {},
   "outputs": [],
   "source": []
  },
  {
   "cell_type": "markdown",
   "id": "eedde239",
   "metadata": {},
   "source": [
    "## Stratified Sampling"
   ]
  },
  {
   "cell_type": "code",
   "execution_count": 23,
   "id": "f52502f9",
   "metadata": {},
   "outputs": [
    {
     "name": "stdout",
     "output_type": "stream",
     "text": [
      "TRAIN: [5073752 4511398 6107067 ... 2333082 4449398 2286529] TEST: [4086879  700743 1070103 ... 5590843 2214645 4782968]\n",
      "[[1270877       4]\n",
      " [   1544      99]]\n",
      "TRAIN: [  31367 1726477 2360228 ... 3721211   80728 4158389] TEST: [5916636 5851259 1568690 ... 5989257 3108527 3301531]\n",
      "[[1270873       8]\n",
      " [   1507     136]]\n",
      "TRAIN: [3289324 1667476 5186218 ... 1690675 1226860 1673812] TEST: [1364046 4858747 1936126 ... 1034845  154878 2257230]\n",
      "[[1270872       9]\n",
      " [   1534     109]]\n",
      "TRAIN: [2292812 6221057 1941269 ... 2559951 1209267 4447556] TEST: [2030475 3291093 1874518 ...  379913 2681312 6140964]\n",
      "[[1270873       8]\n",
      " [   1523     120]]\n",
      "TRAIN: [1320133 4020254  754281 ...  446588 5115130 1615138] TEST: [3657326 3792019 3099258 ...  461751 5550011 1821373]\n",
      "[[1270875       6]\n",
      " [   1524     119]]\n"
     ]
    }
   ],
   "source": [
    "from sklearn.model_selection import StratifiedShuffleSplit\n",
    "sss = StratifiedShuffleSplit(n_splits=5, test_size=0.2, random_state=47)\n",
    "sss.get_n_splits(X, target)\n",
    "accuracy_scores = []\n",
    "for train_index, test_index in sss.split(X, target):\n",
    "    print(\"TRAIN:\", train_index, \"TEST:\", test_index)\n",
    "    X_train, X_test = X[train_index], X[test_index]\n",
    "    y_train, y_test = target[train_index], target[test_index]\n",
    "    reg2 = linear_model.LogisticRegression(random_state=0).fit(X_train[:,0:4], y_train)\n",
    "    y_pred = reg2.predict(X_test[:,0:4])\n",
    "    print( metrics.confusion_matrix(y_test,y_pred))\n",
    "    accuracy_scores.append(reg2.score(X_test[:,0:4],y_test))"
   ]
  },
  {
   "cell_type": "code",
   "execution_count": 24,
   "id": "76ad55a6",
   "metadata": {},
   "outputs": [
    {
     "data": {
      "text/plain": [
       "Text(0.5, 0, 'iterations')"
      ]
     },
     "execution_count": 24,
     "metadata": {},
     "output_type": "execute_result"
    },
    {
     "data": {
      "image/png": "[encoded data removed]",
      "text/plain": [
       "<Figure size 432x288 with 1 Axes>"
      ]
     },
     "metadata": {
      "needs_background": "light"
     },
     "output_type": "display_data"
    }
   ],
   "source": [
    "plt.figure()\n",
    "plt.plot(accuracy_scores)\n",
    "plt.ylabel('accuracy scores')\n",
    "plt.xlabel('iterations')"
   ]
  },
  {
   "cell_type": "markdown",
   "id": "243071cc",
   "metadata": {},
   "source": [
    "## Regularization"
   ]
  },
  {
   "cell_type": "code",
   "execution_count": 161,
   "id": "69d1eecd",
   "metadata": {},
   "outputs": [],
   "source": [
    "from sklearn.linear_model import LogisticRegressionCV"
   ]
  },
  {
   "cell_type": "code",
   "execution_count": 164,
   "id": "cfc78057",
   "metadata": {},
   "outputs": [],
   "source": [
    "from sklearn.model_selection import train_test_split\n",
    "X, X_test, Y, y_test = train_test_split(data, target, test_size=0.2, random_state=0)\n",
    "clf = LogisticRegressionCV(cv=10, penalty='l2', random_state=0).fit(X, Y)"
   ]
  },
  {
   "cell_type": "code",
   "execution_count": 170,
   "id": "fe628d5e",
   "metadata": {},
   "outputs": [
    {
     "data": {
      "text/plain": [
       "array([1.00000000e-04, 7.74263683e-04, 5.99484250e-03, 4.64158883e-02,\n",
       "       3.59381366e-01, 2.78255940e+00, 2.15443469e+01, 1.66810054e+02,\n",
       "       1.29154967e+03, 1.00000000e+04])"
      ]
     },
     "execution_count": 170,
     "metadata": {},
     "output_type": "execute_result"
    }
   ],
   "source": [
    "clf.Cs_"
   ]
  },
  {
   "cell_type": "code",
   "execution_count": 177,
   "id": "00d01fd0",
   "metadata": {},
   "outputs": [
    {
     "data": {
      "text/plain": [
       "array([[0.99782126, 0.99782126, 0.99782126, 0.99782126, 0.99782126,\n",
       "        0.99782126, 0.99782126, 0.99782126, 0.99782126, 0.99782126],\n",
       "       [0.99795485, 0.99795485, 0.99795485, 0.99795485, 0.99795485,\n",
       "        0.99795485, 0.99795485, 0.99795485, 0.99795485, 0.99795485],\n",
       "       [0.99779572, 0.99779572, 0.99779572, 0.99779572, 0.99779572,\n",
       "        0.99779572, 0.99779572, 0.99779572, 0.99779572, 0.99779572],\n",
       "       [0.99773482, 0.99773482, 0.99773482, 0.99773482, 0.99773482,\n",
       "        0.99773482, 0.99773482, 0.99773482, 0.99773482, 0.99773482],\n",
       "       [0.99787431, 0.99787431, 0.99787431, 0.99787431, 0.99787431,\n",
       "        0.99787431, 0.99787431, 0.99787431, 0.99787431, 0.99787431],\n",
       "       [0.99784484, 0.99784484, 0.99784484, 0.99784484, 0.99784484,\n",
       "        0.99784484, 0.99784484, 0.99784484, 0.99784484, 0.99784484],\n",
       "       [0.99751478, 0.99751478, 0.99751478, 0.99751478, 0.99751478,\n",
       "        0.99751478, 0.99751478, 0.99751478, 0.99751478, 0.99751478],\n",
       "       [0.99794699, 0.99794699, 0.99794699, 0.99794699, 0.99794699,\n",
       "        0.99794699, 0.99794699, 0.99794699, 0.99794699, 0.99794699],\n",
       "       [0.99792538, 0.99792538, 0.99792538, 0.99792538, 0.99792538,\n",
       "        0.99792538, 0.99792538, 0.99792538, 0.99792538, 0.99792538],\n",
       "       [0.99782126, 0.99782126, 0.99782126, 0.99782126, 0.99782126,\n",
       "        0.99782126, 0.99782126, 0.99782126, 0.99782126, 0.99782126]])"
      ]
     },
     "execution_count": 177,
     "metadata": {},
     "output_type": "execute_result"
    }
   ],
   "source": [
    "clf.scores_[1]"
   ]
  },
  {
   "cell_type": "code",
   "execution_count": 172,
   "id": "f4ba4ba6",
   "metadata": {},
   "outputs": [
    {
     "data": {
      "text/plain": [
       "array([0.0001])"
      ]
     },
     "execution_count": 172,
     "metadata": {},
     "output_type": "execute_result"
    }
   ],
   "source": [
    "clf.C_"
   ]
  },
  {
   "cell_type": "code",
   "execution_count": 180,
   "id": "04c30350",
   "metadata": {},
   "outputs": [
    {
     "data": {
      "text/plain": [
       "Text(0.5, 0, 'Regulaziation parameter')"
      ]
     },
     "execution_count": 180,
     "metadata": {},
     "output_type": "execute_result"
    },
    {
     "data": {
      "image/png": "[encoded data removed]",
      "text/plain": [
       "<Figure size 432x288 with 1 Axes>"
      ]
     },
     "metadata": {
      "needs_background": "light"
     },
     "output_type": "display_data"
    }
   ],
   "source": [
    "scores = (np.array(clf.scores_[1])).mean(axis=1)\n",
    "plt.plot(clf.Cs_,scores)\n",
    "plt.ylabel(\"CV accuracy\")\n",
    "plt.xlabel('Regulaziation parameter')"
   ]
  },
  {
   "cell_type": "code",
   "execution_count": 181,
   "id": "7086a4b6",
   "metadata": {},
   "outputs": [],
   "source": [
    "y_pred = clf.predict(X_test)"
   ]
  },
  {
   "cell_type": "code",
   "execution_count": 183,
   "id": "d77948fa",
   "metadata": {
    "scrolled": true
   },
   "outputs": [
    {
     "name": "stdout",
     "output_type": "stream",
     "text": [
      "[[1268381    2502]\n",
      " [    343    1298]]\n"
     ]
    }
   ],
   "source": [
    "print( metrics.confusion_matrix(y_test,y_pred))"
   ]
  },
  {
   "cell_type": "code",
   "execution_count": 184,
   "id": "38662a61",
   "metadata": {},
   "outputs": [
    {
     "name": "stdout",
     "output_type": "stream",
     "text": [
      "0.9977642857816434\n"
     ]
    }
   ],
   "source": [
    "print(clf.score(X_test,y_test))"
   ]
  },
  {
   "cell_type": "code",
   "execution_count": null,
   "id": "036db6f8",
   "metadata": {},
   "outputs": [],
   "source": []
  },
  {
   "cell_type": "code",
   "execution_count": null,
   "id": "3f475060",
   "metadata": {},
   "outputs": [],
   "source": []
  },
  {
   "cell_type": "markdown",
   "id": "f84d78d2",
   "metadata": {},
   "source": [
    "## another regularization method"
   ]
  },
  {
   "cell_type": "code",
   "execution_count": 120,
   "id": "565a2ad9",
   "metadata": {},
   "outputs": [],
   "source": [
    "from sklearn.linear_model import RidgeClassifierCV\n",
    "\n",
    "alphas = np.logspace(-2, 0, num=20)\n",
    "ridge = make_pipeline(PolynomialFeatures(degree=2), StandardScaler(),\n",
    "                      RidgeClassifierCV(alphas=alphas, store_cv_values=True))\n",
    "cv = ShuffleSplit(n_splits=5, random_state=1)\n",
    "cv_results = cross_validate(ridge, X, Y,cv=cv, scoring=\"neg_mean_squared_log_error\",\n",
    "                            return_train_score=True,\n",
    "                            return_estimator=True, n_jobs=2)"
   ]
  },
  {
   "cell_type": "code",
   "execution_count": 127,
   "id": "be5412b2",
   "metadata": {
    "scrolled": true
   },
   "outputs": [
    {
     "data": {
      "text/plain": [
       "(20,)"
      ]
     },
     "execution_count": 127,
     "metadata": {},
     "output_type": "execute_result"
    }
   ],
   "source": [
    "alphas.shape"
   ]
  },
  {
   "cell_type": "code",
   "execution_count": 128,
   "id": "8d806d60",
   "metadata": {},
   "outputs": [
    {
     "data": {
      "text/plain": [
       "array([[0.00408181, 0.00408181, 0.00408181, 0.00408181, 0.00408183,\n",
       "        0.00408186, 0.00408192, 0.00408203, 0.00408222, 0.00408252,\n",
       "        0.00408301, 0.00408375, 0.00408488, 0.00408653, 0.00408888,\n",
       "        0.0040921 , 0.00409636, 0.00410177, 0.00410837, 0.00411605]])"
      ]
     },
     "execution_count": 128,
     "metadata": {},
     "output_type": "execute_result"
    }
   ],
   "source": [
    "cv_results[\"estimator\"][0][-1].cv_values_.mean(axis=0)"
   ]
  },
  {
   "cell_type": "code",
   "execution_count": null,
   "id": "5fcef882",
   "metadata": {},
   "outputs": [],
   "source": []
  },
  {
   "cell_type": "code",
   "execution_count": 129,
   "id": "fc1da084",
   "metadata": {},
   "outputs": [
    {
     "data": {
      "image/png": "[encoded data removed]",
      "text/plain": [
       "<Figure size 432x288 with 1 Axes>"
      ]
     },
     "metadata": {
      "needs_background": "light"
     },
     "output_type": "display_data"
    }
   ],
   "source": [
    "cv_alphas.mean(axis=0).plot(marker=\"+\")\n",
    "plt.ylabel(\"Mean squared error\\n (lower is better)\")\n",
    "plt.xlabel(\"alpha\")\n",
    "_ = plt.title(\"Error obtained by cross-validation\")"
   ]
  },
  {
   "cell_type": "code",
   "execution_count": 130,
   "id": "5921f446",
   "metadata": {},
   "outputs": [
    {
     "data": {
      "text/plain": [
       "[0.012742749857031334,\n",
       " 0.012742749857031334,\n",
       " 0.012742749857031334,\n",
       " 0.012742749857031334,\n",
       " 0.012742749857031334]"
      ]
     },
     "execution_count": 130,
     "metadata": {},
     "output_type": "execute_result"
    }
   ],
   "source": [
    "best_alphas = [est[-1].alpha_ for est in cv_results[\"estimator\"]]\n",
    "best_alphas"
   ]
  },
  {
   "cell_type": "code",
   "execution_count": 131,
   "id": "2d13ab16",
   "metadata": {},
   "outputs": [
    {
     "name": "stdout",
     "output_type": "stream",
     "text": [
      "The mean optimal alpha leading to the best generalization performance is:\n",
      "0.01 +/- 0.00\n"
     ]
    }
   ],
   "source": [
    "print(f\"The mean optimal alpha leading to the best generalization performance is:\\n\"\n",
    "      f\"{np.mean(best_alphas):.2f} +/- {np.std(best_alphas):.2f}\")"
   ]
  },
  {
   "cell_type": "code",
   "execution_count": 132,
   "id": "a121a42f",
   "metadata": {},
   "outputs": [
    {
     "data": {
      "text/plain": [
       "(6362620, 5)"
      ]
     },
     "execution_count": 132,
     "metadata": {},
     "output_type": "execute_result"
    }
   ],
   "source": [
    "data.shape"
   ]
  },
  {
   "cell_type": "code",
   "execution_count": 133,
   "id": "7b601ec5",
   "metadata": {},
   "outputs": [],
   "source": [
    "from sklearn.linear_model import RidgeClassifier"
   ]
  },
  {
   "cell_type": "code",
   "execution_count": 154,
   "id": "e97b2990",
   "metadata": {},
   "outputs": [
    {
     "name": "stdout",
     "output_type": "stream",
     "text": [
      "Mean squared error of logistic regression model on the train set:\n",
      "0.001 +/- 0.000\n",
      "Mean squared error of logistic regression model on the test set:\n",
      "0.001 +/- 0.000\n"
     ]
    }
   ],
   "source": [
    "\n",
    "ridge = make_pipeline(PolynomialFeatures(degree=1), MinMaxScaler(),\n",
    "                      RidgeClassifier(alpha=0.01))\n",
    "cv_results = cross_validate(ridge, X, Y,\n",
    "                            cv=10, scoring=\"neg_mean_squared_log_error\",\n",
    "                            return_train_score=True,\n",
    "                            return_estimator=True)\n",
    "train_error = -cv_results[\"train_score\"]\n",
    "print(f\"Mean squared error of logistic regression model on the train set:\\n\"\n",
    "      f\"{train_error.mean():.3f} +/- {train_error.std():.3f}\")\n",
    "test_error = -cv_results[\"test_score\"]\n",
    "print(f\"Mean squared error of logistic regression model on the test set:\\n\"\n",
    "      f\"{test_error.mean():.3f} +/- {test_error.std():.3f}\")\n",
    "                        "
   ]
  },
  {
   "cell_type": "code",
   "execution_count": 155,
   "id": "347cc0f0",
   "metadata": {},
   "outputs": [
    {
     "data": {
      "text/plain": [
       "[<matplotlib.lines.Line2D at 0x22a729ecd60>]"
      ]
     },
     "execution_count": 155,
     "metadata": {},
     "output_type": "execute_result"
    },
    {
     "data": {
      "image/png": "[encoded data removed]",
      "text/plain": [
       "<Figure size 432x288 with 1 Axes>"
      ]
     },
     "metadata": {
      "needs_background": "light"
     },
     "output_type": "display_data"
    }
   ],
   "source": [
    "plt.plot(train_error)\n",
    "plt.plot(test_error,'r')"
   ]
  },
  {
   "cell_type": "code",
   "execution_count": 156,
   "id": "ce14fc95",
   "metadata": {},
   "outputs": [],
   "source": [
    "clf = cv_results[\"estimator\"][5][-1]"
   ]
  },
  {
   "cell_type": "code",
   "execution_count": 157,
   "id": "d7603592",
   "metadata": {},
   "outputs": [
    {
     "data": {
      "text/plain": [
       "array([[1.00000000e+00, 6.07193640e+05, 1.54586493e+07, 1.60658429e+07,\n",
       "        3.39453770e+06, 2.78734406e+06],\n",
       "       [1.00000000e+00, 3.47375000e+03, 0.00000000e+00, 0.00000000e+00,\n",
       "        0.00000000e+00, 0.00000000e+00],\n",
       "       [1.00000000e+00, 6.61706900e+04, 3.28030000e+04, 0.00000000e+00,\n",
       "        0.00000000e+00, 6.61706900e+04],\n",
       "       ...,\n",
       "       [1.00000000e+00, 1.30962400e+04, 5.63800000e+03, 0.00000000e+00,\n",
       "        0.00000000e+00, 1.30962400e+04],\n",
       "       [1.00000000e+00, 9.68149200e+04, 0.00000000e+00, 0.00000000e+00,\n",
       "        1.60732985e+06, 1.70414476e+06],\n",
       "       [1.00000000e+00, 8.02870090e+05, 0.00000000e+00, 0.00000000e+00,\n",
       "        3.34715375e+06, 4.15002384e+06]])"
      ]
     },
     "execution_count": 157,
     "metadata": {},
     "output_type": "execute_result"
    }
   ],
   "source": [
    "m,n = X_test.shape\n",
    "x_tmp = np.ones((m,1))\n",
    "x_tmp = np.append(x_tmp,np.array(X_test),axis=1)\n",
    "x_tmp"
   ]
  },
  {
   "cell_type": "code",
   "execution_count": 158,
   "id": "cce2bd19",
   "metadata": {},
   "outputs": [
    {
     "data": {
      "text/plain": [
       "array([0, 1, 1, ..., 1, 0, 0], dtype=int64)"
      ]
     },
     "execution_count": 158,
     "metadata": {},
     "output_type": "execute_result"
    }
   ],
   "source": [
    "pred = clf.predict(x_tmp)\n",
    "pred"
   ]
  },
  {
   "cell_type": "code",
   "execution_count": 159,
   "id": "e538a5f7",
   "metadata": {},
   "outputs": [
    {
     "name": "stdout",
     "output_type": "stream",
     "text": [
      "[[687762 583121]\n",
      " [    32   1609]]\n"
     ]
    }
   ],
   "source": [
    "print( metrics.confusion_matrix(y_test,pred))"
   ]
  },
  {
   "cell_type": "code",
   "execution_count": 160,
   "id": "45a55259",
   "metadata": {},
   "outputs": [
    {
     "data": {
      "text/plain": [
       "0.5417351657021793"
      ]
     },
     "execution_count": 160,
     "metadata": {},
     "output_type": "execute_result"
    }
   ],
   "source": [
    "clf.score(x_tmp,y_test)"
   ]
  },
  {
   "cell_type": "code",
   "execution_count": null,
   "id": "4505f7f2",
   "metadata": {},
   "outputs": [],
   "source": []
  }
 ],
 "metadata": {
  "kernelspec": {
   "display_name": "Python 3",
   "language": "python",
   "name": "python3"
  },
  "language_info": {
   "codemirror_mode": {
    "name": "ipython",
    "version": 3
   },
   "file_extension": ".py",
   "mimetype": "text/x-python",
   "name": "python",
   "nbconvert_exporter": "python",
   "pygments_lexer": "ipython3",
   "version": "3.8.10"
  }
 },
 "nbformat": 4,
 "nbformat_minor": 5
}
