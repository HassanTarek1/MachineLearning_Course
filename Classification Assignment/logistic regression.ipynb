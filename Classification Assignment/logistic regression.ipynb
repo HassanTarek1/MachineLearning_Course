{
 "cells": [
  {
   "cell_type": "code",
   "execution_count": 82,
   "id": "a32f66fe",
   "metadata": {},
   "outputs": [],
   "source": [
    "import numpy as np \n",
    "import pandas as pd\n",
    "from sklearn import datasets, linear_model, metrics\n",
    "import matplotlib.pyplot as plt"
   ]
  },
  {
   "cell_type": "code",
   "execution_count": 78,
   "id": "86531d55",
   "metadata": {},
   "outputs": [],
   "source": [
    "df = pd.read_csv(\"payment_fraud.csv\")"
   ]
  },
  {
   "cell_type": "code",
   "execution_count": 79,
   "id": "7434320c",
   "metadata": {},
   "outputs": [
    {
     "data": {
      "text/html": [
       "<div>\n",
       "<style scoped>\n",
       "    .dataframe tbody tr th:only-of-type {\n",
       "        vertical-align: middle;\n",
       "    }\n",
       "\n",
       "    .dataframe tbody tr th {\n",
       "        vertical-align: top;\n",
       "    }\n",
       "\n",
       "    .dataframe thead th {\n",
       "        text-align: right;\n",
       "    }\n",
       "</style>\n",
       "<table border=\"1\" class=\"dataframe\">\n",
       "  <thead>\n",
       "    <tr style=\"text-align: right;\">\n",
       "      <th></th>\n",
       "      <th>step</th>\n",
       "      <th>type</th>\n",
       "      <th>amount</th>\n",
       "      <th>nameOrig</th>\n",
       "      <th>oldbalanceOrg</th>\n",
       "      <th>newbalanceOrig</th>\n",
       "      <th>nameDest</th>\n",
       "      <th>oldbalanceDest</th>\n",
       "      <th>newbalanceDest</th>\n",
       "      <th>isFraud</th>\n",
       "      <th>isFlaggedFraud</th>\n",
       "    </tr>\n",
       "  </thead>\n",
       "  <tbody>\n",
       "    <tr>\n",
       "      <th>0</th>\n",
       "      <td>1</td>\n",
       "      <td>PAYMENT</td>\n",
       "      <td>9839.64</td>\n",
       "      <td>C1231006815</td>\n",
       "      <td>170136.0</td>\n",
       "      <td>160296.36</td>\n",
       "      <td>M1979787155</td>\n",
       "      <td>0.0</td>\n",
       "      <td>0.0</td>\n",
       "      <td>0</td>\n",
       "      <td>0</td>\n",
       "    </tr>\n",
       "    <tr>\n",
       "      <th>1</th>\n",
       "      <td>1</td>\n",
       "      <td>PAYMENT</td>\n",
       "      <td>1864.28</td>\n",
       "      <td>C1666544295</td>\n",
       "      <td>21249.0</td>\n",
       "      <td>19384.72</td>\n",
       "      <td>M2044282225</td>\n",
       "      <td>0.0</td>\n",
       "      <td>0.0</td>\n",
       "      <td>0</td>\n",
       "      <td>0</td>\n",
       "    </tr>\n",
       "    <tr>\n",
       "      <th>2</th>\n",
       "      <td>1</td>\n",
       "      <td>TRANSFER</td>\n",
       "      <td>181.00</td>\n",
       "      <td>C1305486145</td>\n",
       "      <td>181.0</td>\n",
       "      <td>0.00</td>\n",
       "      <td>C553264065</td>\n",
       "      <td>0.0</td>\n",
       "      <td>0.0</td>\n",
       "      <td>1</td>\n",
       "      <td>0</td>\n",
       "    </tr>\n",
       "    <tr>\n",
       "      <th>3</th>\n",
       "      <td>1</td>\n",
       "      <td>CASH_OUT</td>\n",
       "      <td>181.00</td>\n",
       "      <td>C840083671</td>\n",
       "      <td>181.0</td>\n",
       "      <td>0.00</td>\n",
       "      <td>C38997010</td>\n",
       "      <td>21182.0</td>\n",
       "      <td>0.0</td>\n",
       "      <td>1</td>\n",
       "      <td>0</td>\n",
       "    </tr>\n",
       "    <tr>\n",
       "      <th>4</th>\n",
       "      <td>1</td>\n",
       "      <td>PAYMENT</td>\n",
       "      <td>11668.14</td>\n",
       "      <td>C2048537720</td>\n",
       "      <td>41554.0</td>\n",
       "      <td>29885.86</td>\n",
       "      <td>M1230701703</td>\n",
       "      <td>0.0</td>\n",
       "      <td>0.0</td>\n",
       "      <td>0</td>\n",
       "      <td>0</td>\n",
       "    </tr>\n",
       "  </tbody>\n",
       "</table>\n",
       "</div>"
      ],
      "text/plain": [
       "   step      type    amount     nameOrig  oldbalanceOrg  newbalanceOrig  \\\n",
       "0     1   PAYMENT   9839.64  C1231006815       170136.0       160296.36   \n",
       "1     1   PAYMENT   1864.28  C1666544295        21249.0        19384.72   \n",
       "2     1  TRANSFER    181.00  C1305486145          181.0            0.00   \n",
       "3     1  CASH_OUT    181.00   C840083671          181.0            0.00   \n",
       "4     1   PAYMENT  11668.14  C2048537720        41554.0        29885.86   \n",
       "\n",
       "      nameDest  oldbalanceDest  newbalanceDest  isFraud  isFlaggedFraud  \n",
       "0  M1979787155             0.0             0.0        0               0  \n",
       "1  M2044282225             0.0             0.0        0               0  \n",
       "2   C553264065             0.0             0.0        1               0  \n",
       "3    C38997010         21182.0             0.0        1               0  \n",
       "4  M1230701703             0.0             0.0        0               0  "
      ]
     },
     "execution_count": 79,
     "metadata": {},
     "output_type": "execute_result"
    }
   ],
   "source": [
    "df.head()"
   ]
  },
  {
   "cell_type": "code",
   "execution_count": null,
   "id": "3b7946fd",
   "metadata": {},
   "outputs": [],
   "source": []
  },
  {
   "cell_type": "code",
   "execution_count": 80,
   "id": "248d9fc6",
   "metadata": {},
   "outputs": [],
   "source": [
    "data = df[['amount','oldbalanceOrg','newbalanceOrig','oldbalanceDest','newbalanceDest']]\n",
    "target = df['isFraud']"
   ]
  },
  {
   "cell_type": "code",
   "execution_count": 48,
   "id": "ccc2f65c",
   "metadata": {},
   "outputs": [
    {
     "data": {
      "text/html": [
       "<div>\n",
       "<style scoped>\n",
       "    .dataframe tbody tr th:only-of-type {\n",
       "        vertical-align: middle;\n",
       "    }\n",
       "\n",
       "    .dataframe tbody tr th {\n",
       "        vertical-align: top;\n",
       "    }\n",
       "\n",
       "    .dataframe thead th {\n",
       "        text-align: right;\n",
       "    }\n",
       "</style>\n",
       "<table border=\"1\" class=\"dataframe\">\n",
       "  <thead>\n",
       "    <tr style=\"text-align: right;\">\n",
       "      <th></th>\n",
       "      <th>amount</th>\n",
       "      <th>oldbalanceOrg</th>\n",
       "      <th>newbalanceOrig</th>\n",
       "      <th>oldbalanceDest</th>\n",
       "      <th>newbalanceDest</th>\n",
       "    </tr>\n",
       "  </thead>\n",
       "  <tbody>\n",
       "    <tr>\n",
       "      <th>0</th>\n",
       "      <td>9839.64</td>\n",
       "      <td>170136.0</td>\n",
       "      <td>160296.36</td>\n",
       "      <td>0.0</td>\n",
       "      <td>0.0</td>\n",
       "    </tr>\n",
       "    <tr>\n",
       "      <th>1</th>\n",
       "      <td>1864.28</td>\n",
       "      <td>21249.0</td>\n",
       "      <td>19384.72</td>\n",
       "      <td>0.0</td>\n",
       "      <td>0.0</td>\n",
       "    </tr>\n",
       "    <tr>\n",
       "      <th>2</th>\n",
       "      <td>181.00</td>\n",
       "      <td>181.0</td>\n",
       "      <td>0.00</td>\n",
       "      <td>0.0</td>\n",
       "      <td>0.0</td>\n",
       "    </tr>\n",
       "    <tr>\n",
       "      <th>3</th>\n",
       "      <td>181.00</td>\n",
       "      <td>181.0</td>\n",
       "      <td>0.00</td>\n",
       "      <td>21182.0</td>\n",
       "      <td>0.0</td>\n",
       "    </tr>\n",
       "    <tr>\n",
       "      <th>4</th>\n",
       "      <td>11668.14</td>\n",
       "      <td>41554.0</td>\n",
       "      <td>29885.86</td>\n",
       "      <td>0.0</td>\n",
       "      <td>0.0</td>\n",
       "    </tr>\n",
       "  </tbody>\n",
       "</table>\n",
       "</div>"
      ],
      "text/plain": [
       "     amount  oldbalanceOrg  newbalanceOrig  oldbalanceDest  newbalanceDest\n",
       "0   9839.64       170136.0       160296.36             0.0             0.0\n",
       "1   1864.28        21249.0        19384.72             0.0             0.0\n",
       "2    181.00          181.0            0.00             0.0             0.0\n",
       "3    181.00          181.0            0.00         21182.0             0.0\n",
       "4  11668.14        41554.0        29885.86             0.0             0.0"
      ]
     },
     "execution_count": 48,
     "metadata": {},
     "output_type": "execute_result"
    }
   ],
   "source": [
    "data.head()"
   ]
  },
  {
   "cell_type": "code",
   "execution_count": 49,
   "id": "4ca22898",
   "metadata": {},
   "outputs": [],
   "source": [
    "from sklearn.model_selection import train_test_split\n",
    "X, X_test, Y, y_test = train_test_split(data, target, test_size=0.2, random_state=0)"
   ]
  },
  {
   "cell_type": "code",
   "execution_count": 50,
   "id": "27c29543",
   "metadata": {},
   "outputs": [
    {
     "data": {
      "text/plain": [
       "1657090    0\n",
       "3056545    0\n",
       "224722     0\n",
       "495935     0\n",
       "4412383    0\n",
       "Name: isFraud, dtype: int64"
      ]
     },
     "execution_count": 50,
     "metadata": {},
     "output_type": "execute_result"
    }
   ],
   "source": [
    "Y.head()"
   ]
  },
  {
   "cell_type": "code",
   "execution_count": 51,
   "id": "def0b69b",
   "metadata": {},
   "outputs": [],
   "source": [
    "from sklearn.preprocessing import MinMaxScaler\n",
    "scaler = MinMaxScaler()\n",
    "scaler.fit(X)\n",
    "X = scaler.transform(X)\n",
    "X_test = scaler.transform(X_test)"
   ]
  },
  {
   "cell_type": "code",
   "execution_count": 26,
   "id": "bf3a6b8c",
   "metadata": {},
   "outputs": [],
   "source": [
    "clf = linear_model.LogisticRegression(random_state=0).fit(X, Y)"
   ]
  },
  {
   "cell_type": "code",
   "execution_count": 29,
   "id": "ba9477f1",
   "metadata": {},
   "outputs": [],
   "source": [
    "y_predict = clf.predict(X)"
   ]
  },
  {
   "cell_type": "code",
   "execution_count": null,
   "id": "3d6ea21a",
   "metadata": {},
   "outputs": [],
   "source": []
  },
  {
   "cell_type": "code",
   "execution_count": 54,
   "id": "1690d0ae",
   "metadata": {},
   "outputs": [],
   "source": [
    "def cost_function(y_pred,y):\n",
    "    m = y.shape[0]\n",
    "    return (1/(2*m))*np.sum((y_pred-y)**2)"
   ]
  },
  {
   "cell_type": "code",
   "execution_count": 55,
   "id": "acc2281b",
   "metadata": {},
   "outputs": [
    {
     "name": "stdout",
     "output_type": "stream",
     "text": [
      "[[5083495      29]\n",
      " [   6086     486]]\n"
     ]
    }
   ],
   "source": [
    "print(metrics.confusion_matrix(Y,y_predict))"
   ]
  },
  {
   "cell_type": "code",
   "execution_count": 56,
   "id": "12b08cbf",
   "metadata": {},
   "outputs": [
    {
     "name": "stdout",
     "output_type": "stream",
     "text": [
      "0.9987986474125439\n"
     ]
    }
   ],
   "source": [
    "print(clf.score(X,Y))"
   ]
  },
  {
   "cell_type": "code",
   "execution_count": 57,
   "id": "1570220b",
   "metadata": {},
   "outputs": [],
   "source": [
    "def test_hypothesis(X,y):\n",
    "    X_train, X_cv, y_train, y_cv = train_test_split(X, y, test_size=0.2, random_state=0)\n",
    "    cost_cv = []\n",
    "    cost_train = []\n",
    "    reg2 = linear_model.LogisticRegression(random_state=0).fit(X_train, y_train)\n",
    "    y_predCV = reg2.predict(X_cv)\n",
    "    y_pred_train=reg2.predict(X_train)\n",
    "    cost_cv.append(cost_function(y_predCV,y_cv))\n",
    "    cost_train.append(cost_function(y_pred_train,y_train))\n",
    "            \n",
    "\n",
    "    return cost_cv, cost_train"
   ]
  },
  {
   "cell_type": "code",
   "execution_count": 60,
   "id": "2f499401",
   "metadata": {},
   "outputs": [],
   "source": [
    "cost_cv = []\n",
    "cost_train = []\n",
    "for i in range(4):\n",
    "    x_h = X[:,0:i+2]\n",
    "    c,t = test_hypothesis(x_h,Y)\n",
    "    cost_cv.append(c)\n",
    "    cost_train.append(t)\n",
    "\n"
   ]
  },
  {
   "cell_type": "code",
   "execution_count": 61,
   "id": "32f7d4ed",
   "metadata": {},
   "outputs": [
    {
     "data": {
      "text/plain": [
       "<matplotlib.legend.Legend at 0x164eab11670>"
      ]
     },
     "execution_count": 61,
     "metadata": {},
     "output_type": "execute_result"
    },
    {
     "data": {
      "image/png": "[encoded data removed]",
      "text/plain": [
       "<Figure size 432x288 with 1 Axes>"
      ]
     },
     "metadata": {
      "needs_background": "light"
     },
     "output_type": "display_data"
    }
   ],
   "source": [
    "plt.figure()\n",
    "x_axis = [2,3,4,5]\n",
    "plt.plot(x_axis,cost_cv,'r')\n",
    "plt.plot(x_axis,cost_train,'g')\n",
    "plt.ylabel(f'cost Function')\n",
    "\n",
    "plt.xlabel('degree of polynomial')\n",
    "plt.legend(['cross validation','training'],loc='upper right')\n",
    "\n"
   ]
  },
  {
   "cell_type": "code",
   "execution_count": 64,
   "id": "396d30a3",
   "metadata": {},
   "outputs": [
    {
     "name": "stdout",
     "output_type": "stream",
     "text": [
      "Generaliztion error fot test set is 0.0005999886839069441\n"
     ]
    }
   ],
   "source": [
    "reg2 = linear_model.LogisticRegression(random_state=0).fit(X[:,0:4], Y)\n",
    "y_pred = reg2.predict(X_test[:,0:4])\n",
    "\n",
    "print(f'Generaliztion error fot test set is {cost_function(y_pred,y_test)}')"
   ]
  },
  {
   "cell_type": "code",
   "execution_count": 65,
   "id": "cb8e04cb",
   "metadata": {},
   "outputs": [
    {
     "name": "stdout",
     "output_type": "stream",
     "text": [
      "Accuracy score for the test set is : 0.9988078810301416\n"
     ]
    }
   ],
   "source": [
    "print(f'Accuracy score for the test set is : {clf.score(X_test,y_test)}')"
   ]
  },
  {
   "cell_type": "markdown",
   "id": "8cb85ea6",
   "metadata": {},
   "source": [
    "## K-fold sampling"
   ]
  },
  {
   "cell_type": "code",
   "execution_count": 74,
   "id": "bd3ae1f2",
   "metadata": {},
   "outputs": [],
   "source": [
    "from sklearn.preprocessing import MinMaxScaler\n",
    "scaler = MinMaxScaler()\n",
    "scaler.fit(data)\n",
    "X = scaler.transform(data)"
   ]
  },
  {
   "cell_type": "code",
   "execution_count": 84,
   "id": "27e104db",
   "metadata": {},
   "outputs": [
    {
     "data": {
      "text/plain": [
       "0          0\n",
       "1          0\n",
       "2          1\n",
       "3          1\n",
       "4          0\n",
       "          ..\n",
       "6362615    1\n",
       "6362616    1\n",
       "6362617    1\n",
       "6362618    1\n",
       "6362619    1\n",
       "Name: isFraud, Length: 6362620, dtype: int64"
      ]
     },
     "execution_count": 84,
     "metadata": {},
     "output_type": "execute_result"
    }
   ],
   "source": [
    "target"
   ]
  },
  {
   "cell_type": "code",
   "execution_count": 100,
   "id": "9e59e128",
   "metadata": {},
   "outputs": [
    {
     "name": "stdout",
     "output_type": "stream",
     "text": [
      "TRAIN: [ 636262  636263  636264 ... 6362617 6362618 6362619] TEST: [     0      1      2 ... 636259 636260 636261]\n",
      "[[635879      0]\n",
      " [   371     12]]\n",
      "TRAIN: [      0       1       2 ... 6362617 6362618 6362619] TEST: [ 636262  636263  636264 ... 1272521 1272522 1272523]\n",
      "[[635105      0]\n",
      " [  1090     67]]\n",
      "TRAIN: [      0       1       2 ... 6362617 6362618 6362619] TEST: [1272524 1272525 1272526 ... 1908783 1908784 1908785]\n",
      "[[635910      0]\n",
      " [   326     26]]\n",
      "TRAIN: [      0       1       2 ... 6362617 6362618 6362619] TEST: [1908786 1908787 1908788 ... 2545045 2545046 2545047]\n",
      "[[635856      0]\n",
      " [   376     30]]\n",
      "TRAIN: [      0       1       2 ... 6362617 6362618 6362619] TEST: [2545048 2545049 2545050 ... 3181307 3181308 3181309]\n",
      "[[635861      0]\n",
      " [   372     29]]\n",
      "TRAIN: [      0       1       2 ... 6362617 6362618 6362619] TEST: [3181310 3181311 3181312 ... 3817569 3817570 3817571]\n",
      "[[635762     10]\n",
      " [   452     38]]\n",
      "TRAIN: [      0       1       2 ... 6362617 6362618 6362619] TEST: [3817572 3817573 3817574 ... 4453831 4453832 4453833]\n",
      "[[635569    239]\n",
      " [   412     42]]\n",
      "TRAIN: [      0       1       2 ... 6362617 6362618 6362619] TEST: [4453834 4453835 4453836 ... 5090093 5090094 5090095]\n",
      "[[635946      0]\n",
      " [   292     24]]\n",
      "TRAIN: [      0       1       2 ... 6362617 6362618 6362619] TEST: [5090096 5090097 5090098 ... 5726355 5726356 5726357]\n",
      "[[635772      0]\n",
      " [   438     52]]\n",
      "TRAIN: [      0       1       2 ... 5726355 5726356 5726357] TEST: [5726358 5726359 5726360 ... 6362617 6362618 6362619]\n",
      "[[632498      0]\n",
      " [  3547    217]]\n"
     ]
    }
   ],
   "source": [
    "from sklearn.model_selection import KFold\n",
    "kf = KFold(n_splits=10)\n",
    "kf.get_n_splits(data)\n",
    "accuracy_scores = []\n",
    "for train_index, test_index in kf.split(data):\n",
    "    print(\"TRAIN:\", train_index, \"TEST:\", test_index)\n",
    "    X_train, X_test = X[train_index],X[test_index]\n",
    "    y_train, y_test = target[train_index], target[test_index]\n",
    "    reg2 = linear_model.LogisticRegression(random_state=0).fit(X_train[:,0:4], y_train)\n",
    "    y_pred = reg2.predict(X_test[:,0:4])\n",
    "    print( metrics.confusion_matrix(y_test,y_pred))\n",
    "    accuracy_scores.append(reg2.score(X_test[:,0:4],y_test))"
   ]
  },
  {
   "cell_type": "code",
   "execution_count": 101,
   "id": "56ea643f",
   "metadata": {},
   "outputs": [
    {
     "data": {
      "text/plain": [
       "Text(0.5, 0, 'iterations')"
      ]
     },
     "execution_count": 101,
     "metadata": {},
     "output_type": "execute_result"
    },
    {
     "data": {
      "image/png": "[encoded data removed]",
      "text/plain": [
       "<Figure size 432x288 with 1 Axes>"
      ]
     },
     "metadata": {
      "needs_background": "light"
     },
     "output_type": "display_data"
    }
   ],
   "source": [
    "plt.figure()\n",
    "plt.plot(accuracy_scores)\n",
    "plt.ylabel('accuracy scores')\n",
    "plt.xlabel('iterations')"
   ]
  },
  {
   "cell_type": "code",
   "execution_count": null,
   "id": "5de9e57e",
   "metadata": {},
   "outputs": [],
   "source": []
  },
  {
   "cell_type": "markdown",
   "id": "eedde239",
   "metadata": {},
   "source": [
    "## Stratified Sampling"
   ]
  },
  {
   "cell_type": "code",
   "execution_count": 103,
   "id": "f52502f9",
   "metadata": {},
   "outputs": [
    {
     "name": "stdout",
     "output_type": "stream",
     "text": [
      "TRAIN: [5073752 4511398 6107067 ... 2333082 4449398 2286529] TEST: [4086879  700743 1070103 ... 5590843 2214645 4782968]\n",
      "[[1270877       4]\n",
      " [   1544      99]]\n",
      "TRAIN: [  31367 1726477 2360228 ... 3721211   80728 4158389] TEST: [5916636 5851259 1568690 ... 5989257 3108527 3301531]\n",
      "[[1270873       8]\n",
      " [   1507     136]]\n",
      "TRAIN: [3289324 1667476 5186218 ... 1690675 1226860 1673812] TEST: [1364046 4858747 1936126 ... 1034845  154878 2257230]\n",
      "[[1270872       9]\n",
      " [   1534     109]]\n",
      "TRAIN: [2292812 6221057 1941269 ... 2559951 1209267 4447556] TEST: [2030475 3291093 1874518 ...  379913 2681312 6140964]\n",
      "[[1270873       8]\n",
      " [   1523     120]]\n",
      "TRAIN: [1320133 4020254  754281 ...  446588 5115130 1615138] TEST: [3657326 3792019 3099258 ...  461751 5550011 1821373]\n",
      "[[1270875       6]\n",
      " [   1524     119]]\n"
     ]
    }
   ],
   "source": [
    "from sklearn.model_selection import StratifiedShuffleSplit\n",
    "sss = StratifiedShuffleSplit(n_splits=5, test_size=0.2, random_state=47)\n",
    "sss.get_n_splits(X, target)\n",
    "accuracy_scores = []\n",
    "for train_index, test_index in sss.split(X, target):\n",
    "    print(\"TRAIN:\", train_index, \"TEST:\", test_index)\n",
    "    X_train, X_test = X[train_index], X[test_index]\n",
    "    y_train, y_test = target[train_index], target[test_index]\n",
    "    reg2 = linear_model.LogisticRegression(random_state=0).fit(X_train[:,0:4], y_train)\n",
    "    y_pred = reg2.predict(X_test[:,0:4])\n",
    "    print( metrics.confusion_matrix(y_test,y_pred))\n",
    "    accuracy_scores.append(reg2.score(X_test[:,0:4],y_test))"
   ]
  },
  {
   "cell_type": "code",
   "execution_count": 104,
   "id": "76ad55a6",
   "metadata": {},
   "outputs": [
    {
     "data": {
      "text/plain": [
       "Text(0.5, 0, 'iterations')"
      ]
     },
     "execution_count": 104,
     "metadata": {},
     "output_type": "execute_result"
    },
    {
     "data": {
      "image/png": "[encoded data removed]",
      "text/plain": [
       "<Figure size 432x288 with 1 Axes>"
      ]
     },
     "metadata": {
      "needs_background": "light"
     },
     "output_type": "display_data"
    }
   ],
   "source": [
    "plt.figure()\n",
    "plt.plot(accuracy_scores)\n",
    "plt.ylabel('accuracy scores')\n",
    "plt.xlabel('iterations')"
   ]
  },
  {
   "cell_type": "code",
   "execution_count": null,
   "id": "e204d851",
   "metadata": {},
   "outputs": [],
   "source": []
  }
 ],
 "metadata": {
  "kernelspec": {
   "display_name": "Python 3",
   "language": "python",
   "name": "python3"
  },
  "language_info": {
   "codemirror_mode": {
    "name": "ipython",
    "version": 3
   },
   "file_extension": ".py",
   "mimetype": "text/x-python",
   "name": "python",
   "nbconvert_exporter": "python",
   "pygments_lexer": "ipython3",
   "version": "3.8.10"
  }
 },
 "nbformat": 4,
 "nbformat_minor": 5
}
