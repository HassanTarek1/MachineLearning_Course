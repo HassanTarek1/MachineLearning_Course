{
 "cells": [
  {
   "cell_type": "code",
   "execution_count": 125,
   "id": "326bff22",
   "metadata": {},
   "outputs": [],
   "source": [
    "import numpy as np \n",
    "import pandas as pd\n",
    "from sklearn import datasets, linear_model, metrics\n",
    "import matplotlib.pyplot as plt\n",
    "from sklearn.preprocessing import MinMaxScaler, StandardScaler\n",
    "from sklearn.model_selection import ShuffleSplit"
   ]
  },
  {
   "cell_type": "code",
   "execution_count": 192,
   "id": "58beb604",
   "metadata": {},
   "outputs": [],
   "source": [
    "data_arr = np.loadtxt('housing.csv')\n"
   ]
  },
  {
   "cell_type": "code",
   "execution_count": 193,
   "id": "37511d85",
   "metadata": {
    "scrolled": true
   },
   "outputs": [],
   "source": [
    "data = data_arr[:,0:-1]\n",
    "target = data_arr[:,-1]"
   ]
  },
  {
   "cell_type": "code",
   "execution_count": 194,
   "id": "1dfc988c",
   "metadata": {
    "scrolled": true
   },
   "outputs": [
    {
     "data": {
      "text/plain": [
       "array([[6.3200e-03, 1.8000e+01, 2.3100e+00, ..., 1.5300e+01, 3.9690e+02,\n",
       "        4.9800e+00],\n",
       "       [2.7310e-02, 0.0000e+00, 7.0700e+00, ..., 1.7800e+01, 3.9690e+02,\n",
       "        9.1400e+00],\n",
       "       [2.7290e-02, 0.0000e+00, 7.0700e+00, ..., 1.7800e+01, 3.9283e+02,\n",
       "        4.0300e+00],\n",
       "       ...,\n",
       "       [6.0760e-02, 0.0000e+00, 1.1930e+01, ..., 2.1000e+01, 3.9690e+02,\n",
       "        5.6400e+00],\n",
       "       [1.0959e-01, 0.0000e+00, 1.1930e+01, ..., 2.1000e+01, 3.9345e+02,\n",
       "        6.4800e+00],\n",
       "       [4.7410e-02, 0.0000e+00, 1.1930e+01, ..., 2.1000e+01, 3.9690e+02,\n",
       "        7.8800e+00]])"
      ]
     },
     "execution_count": 194,
     "metadata": {},
     "output_type": "execute_result"
    }
   ],
   "source": [
    "data"
   ]
  },
  {
   "cell_type": "code",
   "execution_count": 195,
   "id": "ef13edfc",
   "metadata": {},
   "outputs": [],
   "source": [
    "from sklearn.model_selection import train_test_split\n",
    "X, X_test, Y, y_test = train_test_split(data, target, test_size=0.2, random_state=0)"
   ]
  },
  {
   "cell_type": "code",
   "execution_count": 196,
   "id": "f943fe65",
   "metadata": {},
   "outputs": [],
   "source": [
    "scaler = MinMaxScaler()\n",
    "scaler.fit(X)\n",
    "X = scaler.transform(X)\n",
    "X_test = scaler.transform(X_test)"
   ]
  },
  {
   "cell_type": "code",
   "execution_count": 197,
   "id": "be7857dd",
   "metadata": {},
   "outputs": [],
   "source": [
    "class LinearRegression() :\n",
    "      \n",
    "    def __init__( self, learning_rate, iterations ) :\n",
    "          \n",
    "        self.learning_rate = learning_rate\n",
    "          \n",
    "        self.iterations = iterations\n",
    "          \n",
    "    # Function for model training\n",
    "              \n",
    "    def fit( self, X, Y ) :\n",
    "          \n",
    "        # no_of_training_examples, no_of_features\n",
    "          \n",
    "        self.m, self.n = X.shape\n",
    "        \n",
    "          \n",
    "        # weight initialization\n",
    "          \n",
    "        self.W = np.zeros( self.n )\n",
    "          \n",
    "        self.b = 0\n",
    "          \n",
    "        self.X = X\n",
    "          \n",
    "        self.Y = Y\n",
    "          \n",
    "          \n",
    "        # gradient descent learning\n",
    "                  \n",
    "        for i in range( self.iterations ) :\n",
    "              \n",
    "            self.update_weights()\n",
    "              \n",
    "        return self\n",
    "      \n",
    "    # Helper function to update weights in gradient descent\n",
    "      \n",
    "    def update_weights( self ) :\n",
    "             \n",
    "        Y_pred = self.predict( self.X )\n",
    "          \n",
    "        # calculate gradients  \n",
    "      \n",
    "        dW =  -2*(( self.X.T ).dot( self.Y - Y_pred )  )/ self.m\n",
    "       \n",
    "        db =  -2*np.sum( self.Y - Y_pred ) / self.m \n",
    "        #print(dW)\n",
    "        #print(db)\n",
    "          \n",
    "        # update weights\n",
    "      \n",
    "        self.W = self.W - self.learning_rate * dW\n",
    "      \n",
    "        self.b = self.b - self.learning_rate * db\n",
    "          \n",
    "        return self\n",
    "      \n",
    "    # Hypothetical function  h( x ) \n",
    "      \n",
    "    def predict( self, X ) :\n",
    "        \n",
    "      \n",
    "        return X.dot( self.W ) + self.b"
   ]
  },
  {
   "cell_type": "code",
   "execution_count": 198,
   "id": "30115f85",
   "metadata": {},
   "outputs": [],
   "source": [
    "def cost_function(y_pred,y):\n",
    "    m = y.shape[0]\n",
    "    return (1/(2*m))*np.sum((y_pred-y)**2)"
   ]
  },
  {
   "cell_type": "code",
   "execution_count": 199,
   "id": "af43e8b6",
   "metadata": {},
   "outputs": [],
   "source": [
    "def test_hypothesis(X,y):\n",
    "    X_train, X_cv, y_train, y_cv = train_test_split(X, y, test_size=0.2, random_state=0)\n",
    "    rate = 0.03\n",
    "    it = 1000\n",
    "    cost_cv = []\n",
    "    cost_train = []\n",
    "    reg2 = LinearRegression(learning_rate=rate, iterations=it)\n",
    "    reg2.fit(X_train,y_train)\n",
    "    y_predCV = reg2.predict(X_cv)\n",
    "    y_pred_train=reg2.predict(X_train)\n",
    "    cost_cv.append(cost_function(y_predCV,y_cv))\n",
    "    cost_train.append(cost_function(y_pred_train,y_train))\n",
    "            \n",
    "\n",
    "    return cost_cv, cost_train"
   ]
  },
  {
   "cell_type": "code",
   "execution_count": 200,
   "id": "c003f015",
   "metadata": {
    "scrolled": false
   },
   "outputs": [
    {
     "data": {
      "text/plain": [
       "<matplotlib.legend.Legend at 0x2199817e1f0>"
      ]
     },
     "execution_count": 200,
     "metadata": {},
     "output_type": "execute_result"
    },
    {
     "data": {
      "image/png": "[encoded data removed]",
      "text/plain": [
       "<Figure size 432x288 with 1 Axes>"
      ]
     },
     "metadata": {
      "needs_background": "light"
     },
     "output_type": "display_data"
    }
   ],
   "source": [
    "#tetsing all hypotheses\n",
    "cost_cv = []\n",
    "cost_train = []\n",
    "for i in range(8):\n",
    "    x_h = X[:,0:i+6]\n",
    "    c,t = test_hypothesis(x_h,Y)\n",
    "    cost_cv.append(c)\n",
    "    cost_train.append(t)\n",
    "\n",
    "plt.figure()\n",
    "plt.plot(cost_cv,'r')\n",
    "plt.plot(cost_train,'g')\n",
    "plt.ylabel(f'cost Function')\n",
    "plt.xlabel('degree of polynomial')\n",
    "plt.legend(['cross validation','training'],loc='upper right')\n"
   ]
  },
  {
   "cell_type": "markdown",
   "id": "4888f348",
   "metadata": {},
   "source": [
    "## so obviously the best hypothesis is selecting all features "
   ]
  },
  {
   "cell_type": "code",
   "execution_count": 201,
   "id": "443d53b7",
   "metadata": {},
   "outputs": [
    {
     "name": "stdout",
     "output_type": "stream",
     "text": [
      "Generaliztion error fot test set is 19.329075754023503\n"
     ]
    }
   ],
   "source": [
    "reg2 = LinearRegression(learning_rate=0.03, iterations=1000)\n",
    "reg2.fit(X,Y)\n",
    "y_pred = reg2.predict(X_test)\n",
    "\n",
    "print(f'Generaliztion error fot test set is {cost_function(y_pred,y_test)}')"
   ]
  },
  {
   "cell_type": "code",
   "execution_count": 202,
   "id": "fa7fc572",
   "metadata": {},
   "outputs": [],
   "source": [
    "from sklearn.model_selection import cross_validate\n",
    "from sklearn.pipeline import make_pipeline\n",
    "from sklearn.preprocessing import PolynomialFeatures\n",
    "from sklearn.linear_model import LinearRegression"
   ]
  },
  {
   "cell_type": "code",
   "execution_count": 203,
   "id": "c12bc0d3",
   "metadata": {},
   "outputs": [],
   "source": [
    "from sklearn.model_selection import train_test_split\n",
    "X, X_test, Y, y_test = train_test_split(data, target, test_size=0.2, random_state=0)"
   ]
  },
  {
   "cell_type": "code",
   "execution_count": 204,
   "id": "b9e8b340",
   "metadata": {
    "scrolled": true
   },
   "outputs": [
    {
     "name": "stdout",
     "output_type": "stream",
     "text": [
      "Plonomial of degree 1\n",
      "Mean squared error of linear regression model on the train set:\n",
      "19.487 +/- 0.504\n",
      "Mean squared error of linear regression model on the test set:\n",
      "19.090 +/- 4.626\n",
      "Plonomial of degree 2\n",
      "Mean squared error of linear regression model on the train set:\n",
      "10.551 +/- 14.134\n",
      "Mean squared error of linear regression model on the test set:\n",
      "32.400 +/- 48.679\n",
      "Plonomial of degree 3\n",
      "Mean squared error of linear regression model on the train set:\n",
      "0.000 +/- 0.000\n",
      "Mean squared error of linear regression model on the test set:\n",
      "7413.083 +/- 6406.718\n",
      "Plonomial of degree 4\n",
      "Mean squared error of linear regression model on the train set:\n",
      "0.000 +/- 0.000\n",
      "Mean squared error of linear regression model on the test set:\n",
      "1116.977 +/- 803.499\n",
      "Plonomial of degree 5\n",
      "Mean squared error of linear regression model on the train set:\n",
      "0.000 +/- 0.000\n",
      "Mean squared error of linear regression model on the test set:\n",
      "694.213 +/- 441.169\n"
     ]
    }
   ],
   "source": [
    "cv_errs = []\n",
    "t_errs = []\n",
    "degree = [1,2,3,4,5]\n",
    "for i in degree:\n",
    "    linear_regression = make_pipeline(PolynomialFeatures(degree=i), MinMaxScaler(),\n",
    "                                  LinearRegression())\n",
    "    cv = ShuffleSplit(n_splits=10, random_state=1)\n",
    "    cv_results = cross_validate(linear_regression, X, Y,\n",
    "                            cv=cv, scoring=\"neg_mean_squared_error\",\n",
    "                            return_train_score=True,\n",
    "                            return_estimator=True, n_jobs=2)\n",
    "    train_error = (-cv_results[\"train_score\"])\n",
    "    test_error = (-cv_results[\"test_score\"])\n",
    "    print(f'Plonomial of degree {i}')\n",
    "    print(f\"Mean squared error of linear regression model on the train set:\\n\"\n",
    "        f\"{train_error.mean():.3f} +/- {train_error.std():.3f}\")\n",
    "    print(f\"Mean squared error of linear regression model on the test set:\\n\"\n",
    "        f\"{test_error.mean():.3f} +/- {test_error.std():.3f}\")\n",
    "    cv_errs.append(test_error.mean())\n",
    "    t_errs.append(train_error.mean())"
   ]
  },
  {
   "cell_type": "code",
   "execution_count": 205,
   "id": "b67e07b6",
   "metadata": {},
   "outputs": [
    {
     "data": {
      "text/plain": [
       "[19.08962414830131,\n",
       " 32.4004540420373,\n",
       " 7413.083433461116,\n",
       " 1116.9770656499963,\n",
       " 694.2134232482865]"
      ]
     },
     "execution_count": 205,
     "metadata": {},
     "output_type": "execute_result"
    }
   ],
   "source": [
    "cv_errs"
   ]
  },
  {
   "cell_type": "code",
   "execution_count": 206,
   "id": "5c31e2d1",
   "metadata": {
    "scrolled": true
   },
   "outputs": [
    {
     "data": {
      "text/plain": [
       "<matplotlib.legend.Legend at 0x219981fb790>"
      ]
     },
     "execution_count": 206,
     "metadata": {},
     "output_type": "execute_result"
    },
    {
     "data": {
      "image/png": "[encoded data removed]",
      "text/plain": [
       "<Figure size 432x288 with 1 Axes>"
      ]
     },
     "metadata": {
      "needs_background": "light"
     },
     "output_type": "display_data"
    }
   ],
   "source": [
    "plt.figure()\n",
    "plt.plot(degree,cv_errs,'r')\n",
    "plt.plot(degree,t_errs,'g')\n",
    "plt.ylabel(f'cost Function')\n",
    "plt.xlabel('degree of polynomial')\n",
    "plt.legend(['cross validation','training'],loc='upper right')"
   ]
  },
  {
   "cell_type": "markdown",
   "id": "f1395c70",
   "metadata": {},
   "source": [
    "## Polynomial of degree 2 is the best choice"
   ]
  },
  {
   "cell_type": "code",
   "execution_count": 207,
   "id": "47ae5780",
   "metadata": {},
   "outputs": [],
   "source": [
    "linear_regression = make_pipeline(PolynomialFeatures(degree=2), MinMaxScaler(),LinearRegression())\n",
    "cv = ShuffleSplit(n_splits=10, random_state=1)\n",
    "cv_results = cross_validate(linear_regression, data, target, cv=cv, scoring=\"neg_mean_squared_error\",\n",
    "                            return_train_score=True,\n",
    "                            return_estimator=True, n_jobs=2)"
   ]
  },
  {
   "cell_type": "code",
   "execution_count": 208,
   "id": "df2274ed",
   "metadata": {},
   "outputs": [
    {
     "name": "stdout",
     "output_type": "stream",
     "text": [
      "Plonomial of degree 2\n",
      "Mean squared error of linear regression model on the train set:\n",
      "7.514 +/- 5.138\n",
      "Mean squared error of linear regression model on the test set:\n",
      "18.901 +/- 21.792\n"
     ]
    }
   ],
   "source": [
    "train_error = (-cv_results[\"train_score\"])\n",
    "test_error = (-cv_results[\"test_score\"])\n",
    "print(f'Plonomial of degree 2')\n",
    "print(f\"Mean squared error of linear regression model on the train set:\\n\"\n",
    "        f\"{train_error.mean():.3f} +/- {train_error.std():.3f}\")\n",
    "print(f\"Mean squared error of linear regression model on the test set:\\n\"\n",
    "        f\"{test_error.mean():.3f} +/- {test_error.std():.3f}\")"
   ]
  },
  {
   "cell_type": "code",
   "execution_count": 209,
   "id": "c4b6225b",
   "metadata": {
    "scrolled": false
   },
   "outputs": [
    {
     "data": {
      "text/plain": [
       "array(['1', 'x0', 'x1', 'x2', 'x3', 'x4', 'x5', 'x6', 'x7', 'x8', 'x9',\n",
       "       'x10', 'x11', 'x12', 'x0^2', 'x0 x1', 'x0 x2', 'x0 x3', 'x0 x4',\n",
       "       'x0 x5', 'x0 x6', 'x0 x7', 'x0 x8', 'x0 x9', 'x0 x10', 'x0 x11',\n",
       "       'x0 x12', 'x1^2', 'x1 x2', 'x1 x3', 'x1 x4', 'x1 x5', 'x1 x6',\n",
       "       'x1 x7', 'x1 x8', 'x1 x9', 'x1 x10', 'x1 x11', 'x1 x12', 'x2^2',\n",
       "       'x2 x3', 'x2 x4', 'x2 x5', 'x2 x6', 'x2 x7', 'x2 x8', 'x2 x9',\n",
       "       'x2 x10', 'x2 x11', 'x2 x12', 'x3^2', 'x3 x4', 'x3 x5', 'x3 x6',\n",
       "       'x3 x7', 'x3 x8', 'x3 x9', 'x3 x10', 'x3 x11', 'x3 x12', 'x4^2',\n",
       "       'x4 x5', 'x4 x6', 'x4 x7', 'x4 x8', 'x4 x9', 'x4 x10', 'x4 x11',\n",
       "       'x4 x12', 'x5^2', 'x5 x6', 'x5 x7', 'x5 x8', 'x5 x9', 'x5 x10',\n",
       "       'x5 x11', 'x5 x12', 'x6^2', 'x6 x7', 'x6 x8', 'x6 x9', 'x6 x10',\n",
       "       'x6 x11', 'x6 x12', 'x7^2', 'x7 x8', 'x7 x9', 'x7 x10', 'x7 x11',\n",
       "       'x7 x12', 'x8^2', 'x8 x9', 'x8 x10', 'x8 x11', 'x8 x12', 'x9^2',\n",
       "       'x9 x10', 'x9 x11', 'x9 x12', 'x10^2', 'x10 x11', 'x10 x12',\n",
       "       'x11^2', 'x11 x12', 'x12^2'], dtype=object)"
      ]
     },
     "execution_count": 209,
     "metadata": {},
     "output_type": "execute_result"
    }
   ],
   "source": [
    "model_first_fold = cv_results[\"estimator\"][0]\n",
    "model_first_fold[0].get_feature_names_out()"
   ]
  },
  {
   "cell_type": "code",
   "execution_count": null,
   "id": "093326d6",
   "metadata": {},
   "outputs": [],
   "source": []
  },
  {
   "cell_type": "code",
   "execution_count": 210,
   "id": "1c3fb2e6",
   "metadata": {},
   "outputs": [],
   "source": [
    "from sklearn.model_selection import train_test_split\n",
    "X, X_test, Y, y_test = train_test_split(data, target, test_size=0.2, random_state=0)"
   ]
  },
  {
   "cell_type": "code",
   "execution_count": 211,
   "id": "32aca938",
   "metadata": {},
   "outputs": [],
   "source": [
    "from sklearn.linear_model import RidgeCV\n",
    "\n",
    "alphas = np.logspace(-2, 0, num=20)\n",
    "ridge = make_pipeline(PolynomialFeatures(degree=2), StandardScaler(),\n",
    "                      RidgeCV(alphas=alphas, store_cv_values=True))\n"
   ]
  },
  {
   "cell_type": "code",
   "execution_count": 212,
   "id": "0cc5865a",
   "metadata": {},
   "outputs": [],
   "source": [
    "\n",
    "cv = ShuffleSplit(n_splits=5, random_state=1)\n",
    "cv_results = cross_validate(ridge, X, Y,cv=cv, scoring=\"neg_mean_squared_error\",\n",
    "                            return_train_score=True,\n",
    "                            return_estimator=True, n_jobs=2)"
   ]
  },
  {
   "cell_type": "code",
   "execution_count": 213,
   "id": "4d5bc583",
   "metadata": {},
   "outputs": [
    {
     "data": {
      "text/plain": [
       "array([0.01      , 0.01274275, 0.01623777, 0.02069138, 0.02636651,\n",
       "       0.03359818, 0.04281332, 0.05455595, 0.06951928, 0.08858668,\n",
       "       0.11288379, 0.14384499, 0.18329807, 0.23357215, 0.29763514,\n",
       "       0.37926902, 0.48329302, 0.61584821, 0.78475997, 1.        ])"
      ]
     },
     "execution_count": 213,
     "metadata": {},
     "output_type": "execute_result"
    }
   ],
   "source": [
    "alphas"
   ]
  },
  {
   "cell_type": "code",
   "execution_count": 214,
   "id": "cf28e038",
   "metadata": {
    "scrolled": true
   },
   "outputs": [
    {
     "data": {
      "text/html": [
       "<div>\n",
       "<style scoped>\n",
       "    .dataframe tbody tr th:only-of-type {\n",
       "        vertical-align: middle;\n",
       "    }\n",
       "\n",
       "    .dataframe tbody tr th {\n",
       "        vertical-align: top;\n",
       "    }\n",
       "\n",
       "    .dataframe thead th {\n",
       "        text-align: right;\n",
       "    }\n",
       "</style>\n",
       "<table border=\"1\" class=\"dataframe\">\n",
       "  <thead>\n",
       "    <tr style=\"text-align: right;\">\n",
       "      <th></th>\n",
       "      <th>0.010000</th>\n",
       "      <th>0.012743</th>\n",
       "      <th>0.016238</th>\n",
       "      <th>0.020691</th>\n",
       "      <th>0.026367</th>\n",
       "      <th>0.033598</th>\n",
       "      <th>0.042813</th>\n",
       "      <th>0.054556</th>\n",
       "      <th>0.069519</th>\n",
       "      <th>0.088587</th>\n",
       "      <th>0.112884</th>\n",
       "      <th>0.143845</th>\n",
       "      <th>0.183298</th>\n",
       "      <th>0.233572</th>\n",
       "      <th>0.297635</th>\n",
       "      <th>0.379269</th>\n",
       "      <th>0.483293</th>\n",
       "      <th>0.615848</th>\n",
       "      <th>0.784760</th>\n",
       "      <th>1.000000</th>\n",
       "    </tr>\n",
       "  </thead>\n",
       "  <tbody>\n",
       "    <tr>\n",
       "      <th>0</th>\n",
       "      <td>15.615107</td>\n",
       "      <td>15.389828</td>\n",
       "      <td>15.139130</td>\n",
       "      <td>14.864672</td>\n",
       "      <td>14.569698</td>\n",
       "      <td>14.259159</td>\n",
       "      <td>13.939659</td>\n",
       "      <td>13.619125</td>\n",
       "      <td>13.306151</td>\n",
       "      <td>13.009100</td>\n",
       "      <td>12.735148</td>\n",
       "      <td>12.489556</td>\n",
       "      <td>12.275377</td>\n",
       "      <td>12.093682</td>\n",
       "      <td>11.944156</td>\n",
       "      <td>11.825835</td>\n",
       "      <td>11.737713</td>\n",
       "      <td>11.679025</td>\n",
       "      <td>11.649198</td>\n",
       "      <td>11.647577</td>\n",
       "    </tr>\n",
       "    <tr>\n",
       "      <th>1</th>\n",
       "      <td>17.297724</td>\n",
       "      <td>17.021819</td>\n",
       "      <td>16.701358</td>\n",
       "      <td>16.337136</td>\n",
       "      <td>15.933251</td>\n",
       "      <td>15.497377</td>\n",
       "      <td>15.040454</td>\n",
       "      <td>14.575745</td>\n",
       "      <td>14.117373</td>\n",
       "      <td>13.678649</td>\n",
       "      <td>13.270629</td>\n",
       "      <td>12.901255</td>\n",
       "      <td>12.575268</td>\n",
       "      <td>12.294786</td>\n",
       "      <td>12.060233</td>\n",
       "      <td>11.871209</td>\n",
       "      <td>11.727032</td>\n",
       "      <td>11.626812</td>\n",
       "      <td>11.569199</td>\n",
       "      <td>11.552051</td>\n",
       "    </tr>\n",
       "    <tr>\n",
       "      <th>2</th>\n",
       "      <td>17.661739</td>\n",
       "      <td>17.479634</td>\n",
       "      <td>17.250391</td>\n",
       "      <td>16.970649</td>\n",
       "      <td>16.640357</td>\n",
       "      <td>16.263493</td>\n",
       "      <td>15.848283</td>\n",
       "      <td>15.406773</td>\n",
       "      <td>14.953716</td>\n",
       "      <td>14.504940</td>\n",
       "      <td>14.075534</td>\n",
       "      <td>13.678261</td>\n",
       "      <td>13.322522</td>\n",
       "      <td>13.014029</td>\n",
       "      <td>12.755123</td>\n",
       "      <td>12.545502</td>\n",
       "      <td>12.383098</td>\n",
       "      <td>12.264847</td>\n",
       "      <td>12.187212</td>\n",
       "      <td>12.146485</td>\n",
       "    </tr>\n",
       "    <tr>\n",
       "      <th>3</th>\n",
       "      <td>15.936173</td>\n",
       "      <td>15.795304</td>\n",
       "      <td>15.625829</td>\n",
       "      <td>15.425740</td>\n",
       "      <td>15.194583</td>\n",
       "      <td>14.933883</td>\n",
       "      <td>14.647427</td>\n",
       "      <td>14.341317</td>\n",
       "      <td>14.023696</td>\n",
       "      <td>13.704146</td>\n",
       "      <td>13.392848</td>\n",
       "      <td>13.099684</td>\n",
       "      <td>12.833464</td>\n",
       "      <td>12.601402</td>\n",
       "      <td>12.408844</td>\n",
       "      <td>12.259188</td>\n",
       "      <td>12.153878</td>\n",
       "      <td>12.092445</td>\n",
       "      <td>12.072610</td>\n",
       "      <td>12.090546</td>\n",
       "    </tr>\n",
       "    <tr>\n",
       "      <th>4</th>\n",
       "      <td>16.181165</td>\n",
       "      <td>16.030930</td>\n",
       "      <td>15.848244</td>\n",
       "      <td>15.629963</td>\n",
       "      <td>15.374734</td>\n",
       "      <td>15.083619</td>\n",
       "      <td>14.760488</td>\n",
       "      <td>14.412084</td>\n",
       "      <td>14.047683</td>\n",
       "      <td>13.678371</td>\n",
       "      <td>13.316059</td>\n",
       "      <td>12.972420</td>\n",
       "      <td>12.657952</td>\n",
       "      <td>12.381345</td>\n",
       "      <td>12.149155</td>\n",
       "      <td>11.965729</td>\n",
       "      <td>11.833219</td>\n",
       "      <td>11.751598</td>\n",
       "      <td>11.718684</td>\n",
       "      <td>11.730306</td>\n",
       "    </tr>\n",
       "  </tbody>\n",
       "</table>\n",
       "</div>"
      ],
      "text/plain": [
       "    0.010000   0.012743   0.016238   0.020691   0.026367   0.033598  \\\n",
       "0  15.615107  15.389828  15.139130  14.864672  14.569698  14.259159   \n",
       "1  17.297724  17.021819  16.701358  16.337136  15.933251  15.497377   \n",
       "2  17.661739  17.479634  17.250391  16.970649  16.640357  16.263493   \n",
       "3  15.936173  15.795304  15.625829  15.425740  15.194583  14.933883   \n",
       "4  16.181165  16.030930  15.848244  15.629963  15.374734  15.083619   \n",
       "\n",
       "    0.042813   0.054556   0.069519   0.088587   0.112884   0.143845  \\\n",
       "0  13.939659  13.619125  13.306151  13.009100  12.735148  12.489556   \n",
       "1  15.040454  14.575745  14.117373  13.678649  13.270629  12.901255   \n",
       "2  15.848283  15.406773  14.953716  14.504940  14.075534  13.678261   \n",
       "3  14.647427  14.341317  14.023696  13.704146  13.392848  13.099684   \n",
       "4  14.760488  14.412084  14.047683  13.678371  13.316059  12.972420   \n",
       "\n",
       "    0.183298   0.233572   0.297635   0.379269   0.483293   0.615848  \\\n",
       "0  12.275377  12.093682  11.944156  11.825835  11.737713  11.679025   \n",
       "1  12.575268  12.294786  12.060233  11.871209  11.727032  11.626812   \n",
       "2  13.322522  13.014029  12.755123  12.545502  12.383098  12.264847   \n",
       "3  12.833464  12.601402  12.408844  12.259188  12.153878  12.092445   \n",
       "4  12.657952  12.381345  12.149155  11.965729  11.833219  11.751598   \n",
       "\n",
       "    0.784760   1.000000  \n",
       "0  11.649198  11.647577  \n",
       "1  11.569199  11.552051  \n",
       "2  12.187212  12.146485  \n",
       "3  12.072610  12.090546  \n",
       "4  11.718684  11.730306  "
      ]
     },
     "execution_count": 214,
     "metadata": {},
     "output_type": "execute_result"
    }
   ],
   "source": [
    "mse_alphas = [est[-1].cv_values_.mean(axis=0) for est in cv_results[\"estimator\"]]\n",
    "cv_alphas = pd.DataFrame(mse_alphas, columns=alphas)\n",
    "cv_alphas"
   ]
  },
  {
   "cell_type": "code",
   "execution_count": 215,
   "id": "b6780c32",
   "metadata": {},
   "outputs": [
    {
     "data": {
      "image/png": "[encoded data removed]",
      "text/plain": [
       "<Figure size 432x288 with 1 Axes>"
      ]
     },
     "metadata": {
      "needs_background": "light"
     },
     "output_type": "display_data"
    }
   ],
   "source": [
    "cv_alphas.mean(axis=0).plot(marker=\"+\")\n",
    "plt.ylabel(\"Mean squared error\\n (lower is better)\")\n",
    "plt.xlabel(\"alpha\")\n",
    "_ = plt.title(\"Error obtained by cross-validation\")"
   ]
  },
  {
   "cell_type": "code",
   "execution_count": 216,
   "id": "8a60256e",
   "metadata": {},
   "outputs": [
    {
     "data": {
      "text/plain": [
       "[1.0, 1.0, 1.0, 0.7847599703514611, 0.7847599703514611]"
      ]
     },
     "execution_count": 216,
     "metadata": {},
     "output_type": "execute_result"
    }
   ],
   "source": [
    "best_alphas = [est[-1].alpha_ for est in cv_results[\"estimator\"]]\n",
    "best_alphas"
   ]
  },
  {
   "cell_type": "code",
   "execution_count": 217,
   "id": "09e3638d",
   "metadata": {},
   "outputs": [
    {
     "name": "stdout",
     "output_type": "stream",
     "text": [
      "The mean optimal alpha leading to the best generalization performance is:\n",
      "0.91 +/- 0.11\n"
     ]
    }
   ],
   "source": [
    "print(f\"The mean optimal alpha leading to the best generalization performance is:\\n\"\n",
    "      f\"{np.mean(best_alphas):.2f} +/- {np.std(best_alphas):.2f}\")"
   ]
  },
  {
   "cell_type": "code",
   "execution_count": 218,
   "id": "0c45daa7",
   "metadata": {},
   "outputs": [
    {
     "name": "stdout",
     "output_type": "stream",
     "text": [
      "Mean squared error of linear regression model on the train set:\n",
      "12.917 +/- 0.169\n",
      "Mean squared error of linear regression model on the test set:\n",
      "10.370 +/- 1.881\n"
     ]
    }
   ],
   "source": [
    "ridge = make_pipeline(PolynomialFeatures(degree=2), MinMaxScaler(),\n",
    "                      Ridge(alpha=0.9))\n",
    "cv = ShuffleSplit(n_splits=5, random_state=1)\n",
    "cv_results = cross_validate(ridge, data, target,cv=cv, scoring=\"neg_mean_squared_error\",\n",
    "                            return_train_score=True,\n",
    "                            return_estimator=True, n_jobs=2)\n",
    "train_error = -cv_results[\"train_score\"]\n",
    "print(f\"Mean squared error of linear regression model on the train set:\\n\"\n",
    "      f\"{train_error.mean():.3f} +/- {train_error.std():.3f}\")\n",
    "test_error = -cv_results[\"test_score\"]\n",
    "print(f\"Mean squared error of linear regression model on the test set:\\n\"\n",
    "      f\"{test_error.mean():.3f} +/- {test_error.std():.3f}\")\n",
    "                        "
   ]
  },
  {
   "cell_type": "code",
   "execution_count": null,
   "id": "5062dbb6",
   "metadata": {},
   "outputs": [],
   "source": []
  }
 ],
 "metadata": {
  "kernelspec": {
   "display_name": "Python 3",
   "language": "python",
   "name": "python3"
  },
  "language_info": {
   "codemirror_mode": {
    "name": "ipython",
    "version": 3
   },
   "file_extension": ".py",
   "mimetype": "text/x-python",
   "name": "python",
   "nbconvert_exporter": "python",
   "pygments_lexer": "ipython3",
   "version": "3.8.10"
  }
 },
 "nbformat": 4,
 "nbformat_minor": 5
}
