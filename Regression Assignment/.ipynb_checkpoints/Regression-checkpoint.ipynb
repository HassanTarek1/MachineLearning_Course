{
 "cells": [
  {
   "cell_type": "code",
   "execution_count": 327,
   "id": "326bff22",
   "metadata": {},
   "outputs": [],
   "source": [
    "import numpy as np \n",
    "import pandas as pd\n",
    "from sklearn import datasets, linear_model, metrics\n",
    "import matplotlib.pyplot as plt"
   ]
  },
  {
   "cell_type": "code",
   "execution_count": 328,
   "id": "58beb604",
   "metadata": {},
   "outputs": [],
   "source": [
    "data_arr = np.loadtxt('housing.csv')\n"
   ]
  },
  {
   "cell_type": "code",
   "execution_count": 329,
   "id": "37511d85",
   "metadata": {
    "scrolled": true
   },
   "outputs": [],
   "source": [
    "data = data_arr[:,0:-1]\n",
    "target = data_arr[:,-1]"
   ]
  },
  {
   "cell_type": "code",
   "execution_count": 330,
   "id": "1dfc988c",
   "metadata": {},
   "outputs": [
    {
     "data": {
      "text/plain": [
       "array([[6.3200e-03, 1.8000e+01, 2.3100e+00, ..., 1.5300e+01, 3.9690e+02,\n",
       "        4.9800e+00],\n",
       "       [2.7310e-02, 0.0000e+00, 7.0700e+00, ..., 1.7800e+01, 3.9690e+02,\n",
       "        9.1400e+00],\n",
       "       [2.7290e-02, 0.0000e+00, 7.0700e+00, ..., 1.7800e+01, 3.9283e+02,\n",
       "        4.0300e+00],\n",
       "       ...,\n",
       "       [6.0760e-02, 0.0000e+00, 1.1930e+01, ..., 2.1000e+01, 3.9690e+02,\n",
       "        5.6400e+00],\n",
       "       [1.0959e-01, 0.0000e+00, 1.1930e+01, ..., 2.1000e+01, 3.9345e+02,\n",
       "        6.4800e+00],\n",
       "       [4.7410e-02, 0.0000e+00, 1.1930e+01, ..., 2.1000e+01, 3.9690e+02,\n",
       "        7.8800e+00]])"
      ]
     },
     "execution_count": 330,
     "metadata": {},
     "output_type": "execute_result"
    }
   ],
   "source": [
    "data"
   ]
  },
  {
   "cell_type": "code",
   "execution_count": 331,
   "id": "c49fd3e6",
   "metadata": {},
   "outputs": [],
   "source": [
    "from sklearn.model_selection import train_test_split\n",
    "X, X_test, Y, y_test = train_test_split(data, target, test_size=0.2, random_state=0)\n"
   ]
  },
  {
   "cell_type": "code",
   "execution_count": 338,
   "id": "0acbdf81",
   "metadata": {},
   "outputs": [],
   "source": [
    "from sklearn.preprocessing import MinMaxScaler\n",
    "scaler = MinMaxScaler()\n",
    "scaler.fit(X)\n",
    "X = scaler.transform(X)\n",
    "X_test = scaler.transform(X_test)\n"
   ]
  },
  {
   "cell_type": "code",
   "execution_count": 339,
   "id": "e674c71c",
   "metadata": {
    "scrolled": true
   },
   "outputs": [
    {
     "data": {
      "text/plain": [
       "array([0.00395381, 0.        , 0.21041056, 1.        , 0.25102881,\n",
       "       0.64954972, 0.8815654 , 0.15407723, 0.30434783, 0.22900763,\n",
       "       0.5106383 , 0.98688789, 0.22638298])"
      ]
     },
     "execution_count": 339,
     "metadata": {},
     "output_type": "execute_result"
    }
   ],
   "source": [
    "X[0]"
   ]
  },
  {
   "cell_type": "code",
   "execution_count": 340,
   "id": "be7857dd",
   "metadata": {},
   "outputs": [],
   "source": [
    "class LinearRegression() :\n",
    "      \n",
    "    def __init__( self, learning_rate, iterations ) :\n",
    "          \n",
    "        self.learning_rate = learning_rate\n",
    "          \n",
    "        self.iterations = iterations\n",
    "          \n",
    "    # Function for model training\n",
    "              \n",
    "    def fit( self, X, Y ) :\n",
    "          \n",
    "        # no_of_training_examples, no_of_features\n",
    "          \n",
    "        self.m, self.n = X.shape\n",
    "        \n",
    "          \n",
    "        # weight initialization\n",
    "          \n",
    "        self.W = np.zeros( self.n )\n",
    "          \n",
    "        self.b = 0\n",
    "          \n",
    "        self.X = X\n",
    "          \n",
    "        self.Y = Y\n",
    "          \n",
    "          \n",
    "        # gradient descent learning\n",
    "                  \n",
    "        for i in range( self.iterations ) :\n",
    "              \n",
    "            self.update_weights()\n",
    "              \n",
    "        return self\n",
    "      \n",
    "    # Helper function to update weights in gradient descent\n",
    "      \n",
    "    def update_weights( self ) :\n",
    "             \n",
    "        Y_pred = self.predict( self.X )\n",
    "          \n",
    "        # calculate gradients  \n",
    "      \n",
    "        dW =  -2*(( self.X.T ).dot( self.Y - Y_pred )  )/ self.m\n",
    "       \n",
    "        db =  -2*np.sum( self.Y - Y_pred ) / self.m \n",
    "        #print(dW)\n",
    "        #print(db)\n",
    "          \n",
    "        # update weights\n",
    "      \n",
    "        self.W = self.W - self.learning_rate * dW\n",
    "      \n",
    "        self.b = self.b - self.learning_rate * db\n",
    "          \n",
    "        return self\n",
    "      \n",
    "    # Hypothetical function  h( x ) \n",
    "      \n",
    "    def predict( self, X ) :\n",
    "        \n",
    "      \n",
    "        return X.dot( self.W ) + self.b"
   ]
  },
  {
   "cell_type": "code",
   "execution_count": 341,
   "id": "30115f85",
   "metadata": {},
   "outputs": [],
   "source": [
    "def cost_function(y_pred,y):\n",
    "    m = y.shape[0]\n",
    "    return (1/(2*m))*np.sum((y_pred-y)**2)"
   ]
  },
  {
   "cell_type": "code",
   "execution_count": 373,
   "id": "af43e8b6",
   "metadata": {},
   "outputs": [],
   "source": [
    "def test_hypothesis(X,y):\n",
    "    X_train, X_cv, y_train, y_cv = train_test_split(X, y, test_size=0.2, random_state=0)\n",
    "    rate = 0.03\n",
    "    it = 1000\n",
    "    cost_cv = []\n",
    "    cost_train = []\n",
    "    reg2 = LinearRegression(learning_rate=rate, iterations=it)\n",
    "    reg2.fit(X_train,y_train)\n",
    "    y_predCV = reg2.predict(X_cv)\n",
    "    y_pred_train=reg2.predict(X_train)\n",
    "    cost_cv.append(cost_function(y_predCV,y_cv))\n",
    "    cost_train.append(cost_function(y_pred_train,y_train))\n",
    "            \n",
    "\n",
    "    return cost_cv, cost_train"
   ]
  },
  {
   "cell_type": "code",
   "execution_count": 380,
   "id": "c003f015",
   "metadata": {
    "scrolled": true
   },
   "outputs": [
    {
     "data": {
      "text/plain": [
       "<matplotlib.legend.Legend at 0x1f34059c7f0>"
      ]
     },
     "execution_count": 380,
     "metadata": {},
     "output_type": "execute_result"
    },
    {
     "data": {
      "image/png": "[encoded data removed]",
      "text/plain": [
       "<Figure size 432x288 with 1 Axes>"
      ]
     },
     "metadata": {
      "needs_background": "light"
     },
     "output_type": "display_data"
    }
   ],
   "source": [
    "#tetsing all hypotheses\n",
    "cost_cv = []\n",
    "cost_train = []\n",
    "for i in range(8):\n",
    "    x_h = X[:,0:i+6]\n",
    "    c,t = test_hypothesis(x_h,Y)\n",
    "    cost_cv.append(c)\n",
    "    cost_train.append(t)\n",
    "\n",
    "plt.figure()\n",
    "plt.plot(cost_cv,'r')\n",
    "plt.plot(cost_train,'g')\n",
    "plt.ylabel(f'cost Function')\n",
    "plt.xlabel('degree of polynomial')\n",
    "plt.legend(['cross validation','training'],loc='upper right')\n"
   ]
  },
  {
   "cell_type": "markdown",
   "id": "a226fa33",
   "metadata": {},
   "source": [
    "## so obviously the best hypothesis is selecting all features "
   ]
  },
  {
   "cell_type": "code",
   "execution_count": 381,
   "id": "feed4e5e",
   "metadata": {},
   "outputs": [
    {
     "name": "stdout",
     "output_type": "stream",
     "text": [
      "Generaliztion error fot test set is 19.32907575402351\n"
     ]
    }
   ],
   "source": [
    "reg2 = LinearRegression(learning_rate=0.03, iterations=1000)\n",
    "reg2.fit(X,Y)\n",
    "y_pred = reg2.predict(X_test)\n",
    "\n",
    "print(f'Generaliztion error fot test set is {cost_function(y_pred,y_test)}')"
   ]
  },
  {
   "cell_type": "code",
   "execution_count": null,
   "id": "e9aaf737",
   "metadata": {},
   "outputs": [],
   "source": []
  }
 ],
 "metadata": {
  "kernelspec": {
   "display_name": "Python 3",
   "language": "python",
   "name": "python3"
  },
  "language_info": {
   "codemirror_mode": {
    "name": "ipython",
    "version": 3
   },
   "file_extension": ".py",
   "mimetype": "text/x-python",
   "name": "python",
   "nbconvert_exporter": "python",
   "pygments_lexer": "ipython3",
   "version": "3.8.10"
  }
 },
 "nbformat": 4,
 "nbformat_minor": 5
}
